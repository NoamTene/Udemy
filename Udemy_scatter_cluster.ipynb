{
  "nbformat": 4,
  "nbformat_minor": 0,
  "metadata": {
    "colab": {
      "name": "Udemy - Getting Started",
      "provenance": [],
      "collapsed_sections": [],
      "mount_file_id": "19N5ZqohtrL2FPRUxB-a6HFgRz0seYsFd",
      "authorship_tag": "ABX9TyMWils4863LGa7su+E56iO5",
      "include_colab_link": true
    },
    "kernelspec": {
      "name": "python3",
      "display_name": "Python 3"
    }
  },
  "cells": [
    {
      "cell_type": "markdown",
      "metadata": {
        "id": "view-in-github",
        "colab_type": "text"
      },
      "source": [
        "<a href=\"https://colab.research.google.com/github/NoamTene/Udemy/blob/master/Udemy_scatter_cluster.ipynb\" target=\"_parent\"><img src=\"https://colab.research.google.com/assets/colab-badge.svg\" alt=\"Open In Colab\"/></a>"
      ]
    },
    {
      "cell_type": "code",
      "metadata": {
        "id": "tLmGqAviv1xs",
        "colab_type": "code",
        "colab": {}
      },
      "source": [
        "import pandas as pd\n",
        "import numpy  as np\n",
        "import matplotlib.pyplot as plt\n",
        "import math\n",
        "plt.style.use('ggplot')"
      ],
      "execution_count": 1,
      "outputs": []
    },
    {
      "cell_type": "markdown",
      "metadata": {
        "id": "7hlYp6IsmZU0",
        "colab_type": "text"
      },
      "source": [
        "The followwing raw github is a frozen version of https://www.kaggle.com/andrewmvd/udemy-courses/download.  We believe that this file is just a small sample of all Udemy offerings but have chosen to use it as a snapshot of older course stats so we can compare them with more recent values and see if and how they changed."
      ]
    },
    {
      "cell_type": "code",
      "metadata": {
        "id": "nMLHV_ewF9ES",
        "colab_type": "code",
        "colab": {
          "base_uri": "https://localhost:8080/",
          "height": 34
        },
        "outputId": "7a09a241-3e16-43f1-e5dd-13e707e37e86"
      },
      "source": [
        "df = pd.read_csv('https://raw.githubusercontent.com/NoamTene/Udemy/master/datasets_646598_1162286_udemy_courses.csv')\n",
        "df.shape"
      ],
      "execution_count": 2,
      "outputs": [
        {
          "output_type": "execute_result",
          "data": {
            "text/plain": [
              "(3678, 12)"
            ]
          },
          "metadata": {
            "tags": []
          },
          "execution_count": 2
        }
      ]
    },
    {
      "cell_type": "code",
      "metadata": {
        "id": "cCSBd6MzWeHF",
        "colab_type": "code",
        "colab": {
          "base_uri": "https://localhost:8080/",
          "height": 282
        },
        "outputId": "ccdd36b3-5f38-4864-8795-bc2209c5f3c1"
      },
      "source": [
        "print(\"sum(num_subscribers)=\",df.num_subscribers.sum())\n",
        "plt.yscale('log')\n",
        "plt.hist(df.num_subscribers,bins=50);"
      ],
      "execution_count": 3,
      "outputs": [
        {
          "output_type": "stream",
          "text": [
            "sum(num_subscribers)= 11759120\n"
          ],
          "name": "stdout"
        },
        {
          "output_type": "display_data",
          "data": {
            "image/png": "[encoded data removed]",
            "text/plain": [
              "<Figure size 432x288 with 1 Axes>"
            ]
          },
          "metadata": {
            "tags": [],
            "needs_background": "light"
          }
        }
      ]
    },
    {
      "cell_type": "markdown",
      "metadata": {
        "id": "AjRp1NSamIp5",
        "colab_type": "text"
      },
      "source": [
        "We can now see that there is indeed only one course with more than 250,000 subscribers which is more than 2% of all subscribers in the data set.\n",
        "We also see that there are only a few others with more than 80,000.  \n",
        "\n",
        "We can not ignore these few outliers because as few as they are, they represent a significant percentage of the total Udemy subscribers (and the corresponding enrollment and possible revenue).  However, we already know that they form their own category and need to be analyzed separately if we want our statistical analysis to have any meaning.\n",
        "\n",
        "For now lets try to zoom in on the majority of the courses."
      ]
    },
    {
      "cell_type": "code",
      "metadata": {
        "id": "AYU0ZhAGucMp",
        "colab_type": "code",
        "colab": {
          "base_uri": "https://localhost:8080/",
          "height": 265
        },
        "outputId": "09bcb357-312c-4622-9318-6d53283be038"
      },
      "source": [
        "plt.hist(df.query(\"num_subscribers<80000\").num_subscribers,bins=50);"
      ],
      "execution_count": 4,
      "outputs": [
        {
          "output_type": "display_data",
          "data": {
            "image/png": "[encoded data removed]",
            "text/plain": [
              "<Figure size 432x288 with 1 Axes>"
            ]
          },
          "metadata": {
            "tags": [],
            "needs_background": "light"
          }
        }
      ]
    },
    {
      "cell_type": "markdown",
      "metadata": {
        "id": "dhrSixORuhy0",
        "colab_type": "text"
      },
      "source": [
        "Apparently most of the courses still cluster in the lower end bins with fewer than 10,000 subscribers and there are still some large courses that get drowned out if we do not use the log scale - so lets bring it back:"
      ]
    },
    {
      "cell_type": "code",
      "metadata": {
        "id": "tErbgqtDa7bt",
        "colab_type": "code",
        "colab": {
          "base_uri": "https://localhost:8080/",
          "height": 265
        },
        "outputId": "98f2fb6c-7df1-4345-9ac8-4af54e10e276"
      },
      "source": [
        "plt.hist(df.query(\"num_subscribers<80000\").num_subscribers,bins=50)\n",
        "plt.yscale('log')"
      ],
      "execution_count": 5,
      "outputs": [
        {
          "output_type": "display_data",
          "data": {
            "image/png": "[encoded data removed]",
            "text/plain": [
              "<Figure size 432x288 with 1 Axes>"
            ]
          },
          "metadata": {
            "tags": [],
            "needs_background": "light"
          }
        }
      ]
    },
    {
      "cell_type": "markdown",
      "metadata": {
        "id": "9ZzdZ8KUtdPq",
        "colab_type": "text"
      },
      "source": [
        "We can now see three distinct regions in the subscriber data:\n",
        "1. Many courses have less than 2000 subscribers.\n",
        "2. There is a middle region where a linear fit (to a log scale) might do a reasonable job of approximating the data.\n",
        "3. Courses with more than 40,000 subscribers probably belong with the few outlier we took out earlier.\n",
        "\n",
        "Lets try to zoom in some more and remove the log scale:"
      ]
    },
    {
      "cell_type": "code",
      "metadata": {
        "id": "u3QUzuPPxmoQ",
        "colab_type": "code",
        "colab": {
          "base_uri": "https://localhost:8080/",
          "height": 265
        },
        "outputId": "52de2f2c-2fba-4fad-b068-25e7f118b971"
      },
      "source": [
        "plt.hist(df.query(\"num_subscribers<40000\").num_subscribers,bins=50);"
      ],
      "execution_count": 6,
      "outputs": [
        {
          "output_type": "display_data",
          "data": {
            "image/png": "[encoded data removed]",
            "text/plain": [
              "<Figure size 432x288 with 1 Axes>"
            ]
          },
          "metadata": {
            "tags": [],
            "needs_background": "light"
          }
        }
      ]
    },
    {
      "cell_type": "markdown",
      "metadata": {
        "id": "JVIeb58py_N-",
        "colab_type": "text"
      },
      "source": [
        "With the log scale removed, the area under the histogram might tells us something meaningful about the distribution of course sizes.  But we are not there yet ...\n",
        "\n",
        "We know from the earlier log plot that there are more than 10 courses with at least 30,000 subscribers each that are drowned out by the vertical scale of this plot.\n",
        "\n",
        "Let's take a closer look at the courses on the lower end of the subscriber numbers that are drowning out our real data.  There may be a large number of these courses but with their low attentance they represent only a small portion of the student population:"
      ]
    },
    {
      "cell_type": "code",
      "metadata": {
        "id": "myo9vH540k8H",
        "colab_type": "code",
        "colab": {
          "base_uri": "https://localhost:8080/",
          "height": 351
        },
        "outputId": "ecf452db-b9ca-4899-8da5-2a3913f834a8"
      },
      "source": [
        "print(\"sum(num_subscribers<100)=    \", df.query(\"num_subscribers<100\").num_subscribers.sum())\n",
        "print(\"sum(num_subscribers    )= \",                                 df.num_subscribers.sum())\n",
        "plt.hist(df.query(\"num_subscribers<100\").num_subscribers,bins=100);\n",
        "print(\"Number of courses with num_subscribers<  20: \",df.query(\"num_subscribers< 20\").shape[0])\n",
        "print(\"Number of courses with num_subscribers< 100: \",df.query(\"num_subscribers<100\").shape[0])\n",
        "print(\"Number of courses                          :\",                              df.shape[0])\n"
      ],
      "execution_count": 7,
      "outputs": [
        {
          "output_type": "stream",
          "text": [
            "sum(num_subscribers<100)=     26302\n",
            "sum(num_subscribers    )=  11759120\n",
            "Number of courses with num_subscribers<  20:  443\n",
            "Number of courses with num_subscribers< 100:  885\n",
            "Number of courses                          : 3678\n"
          ],
          "name": "stdout"
        },
        {
          "output_type": "display_data",
          "data": {
            "image/png": "[encoded data removed]",
            "text/plain": [
              "<Figure size 432x288 with 1 Axes>"
            ]
          },
          "metadata": {
            "tags": [],
            "needs_background": "light"
          }
        }
      ]
    },
    {
      "cell_type": "markdown",
      "metadata": {
        "id": "CilQclsN7cva",
        "colab_type": "text"
      },
      "source": [
        "Let's plot the cumulative number of subscribers when we sort the data:"
      ]
    },
    {
      "cell_type": "code",
      "metadata": {
        "id": "4p1tn-qd5CGe",
        "colab_type": "code",
        "colab": {
          "base_uri": "https://localhost:8080/",
          "height": 293
        },
        "outputId": "8f60d8cc-8520-4c84-fb65-d73c4ee16f37"
      },
      "source": [
        "Sorted_subsc = df.num_subscribers.sort_values()\n",
        "cum_subsc=np.cumsum(Sorted_subsc).reset_index(drop=True)\n",
        "plt.plot(cum_subsc)"
      ],
      "execution_count": 8,
      "outputs": [
        {
          "output_type": "execute_result",
          "data": {
            "text/plain": [
              "[<matplotlib.lines.Line2D at 0x7fab34733390>]"
            ]
          },
          "metadata": {
            "tags": []
          },
          "execution_count": 8
        },
        {
          "output_type": "display_data",
          "data": {
            "image/png": "[encoded data removed]",
            "text/plain": [
              "<Figure size 432x288 with 1 Axes>"
            ]
          },
          "metadata": {
            "tags": [],
            "needs_background": "light"
          }
        }
      ]
    },
    {
      "cell_type": "markdown",
      "metadata": {
        "id": "joK7vZ1a7-6M",
        "colab_type": "text"
      },
      "source": [
        "We see that the lower 3000 courses (about 80% of the courses) have fewer than 25% of the total subscribers.  Most of the subscribers are enrolled in the top 20% of courses (in terms of popularity) - which should not be surprising.  What it does tell us is that we need to be careful in applying statistical tools like averages and medians which are meaningless in this type of data."
      ]
    },
    {
      "cell_type": "code",
      "metadata": {
        "id": "OqhhZLaMk1L3",
        "colab_type": "code",
        "colab": {
          "base_uri": "https://localhost:8080/",
          "height": 282
        },
        "outputId": "3b6f3e1c-47e0-432b-c039-e80e8b4f8247"
      },
      "source": [
        "plt.scatter(df.num_subscribers,df.price)"
      ],
      "execution_count": 9,
      "outputs": [
        {
          "output_type": "execute_result",
          "data": {
            "text/plain": [
              "<matplotlib.collections.PathCollection at 0x7fab346a16a0>"
            ]
          },
          "metadata": {
            "tags": []
          },
          "execution_count": 9
        },
        {
          "output_type": "display_data",
          "data": {
            "image/png": "[encoded data removed]",
            "text/plain": [
              "<Figure size 432x288 with 1 Axes>"
            ]
          },
          "metadata": {
            "tags": [],
            "needs_background": "light"
          }
        }
      ]
    }
  ]
}