{
  "nbformat": 4,
  "nbformat_minor": 0,
  "metadata": {
    "colab": {
      "name": "Udemy - Getting Started",
      "provenance": [],
      "collapsed_sections": [],
      "mount_file_id": "19N5ZqohtrL2FPRUxB-a6HFgRz0seYsFd",
      "authorship_tag": "ABX9TyNhz+ntfUDZL8CBcS5E1MAU",
      "include_colab_link": true
    },
    "kernelspec": {
      "name": "python3",
      "display_name": "Python 3"
    }
  },
  "cells": [
    {
      "cell_type": "markdown",
      "metadata": {
        "id": "view-in-github",
        "colab_type": "text"
      },
      "source": [
        "<a href=\"https://colab.research.google.com/github/NoamTene/Udemy/blob/master/Udemy_Getting_Started2.ipynb\" target=\"_parent\"><img src=\"https://colab.research.google.com/assets/colab-badge.svg\" alt=\"Open In Colab\"/></a>"
      ]
    },
    {
      "cell_type": "code",
      "metadata": {
        "id": "tLmGqAviv1xs",
        "colab_type": "code",
        "colab": {}
      },
      "source": [
        "import pandas as pd\n",
        "import numpy  as np\n",
        "import plotly.express  as px\n",
        "import matplotlib.pyplot as plt\n",
        "import plotly.graph_objects as go\n",
        "import math\n",
        "\n",
        "from matplotlib import cm\n",
        "plt.style.use('ggplot')"
      ],
      "execution_count": null,
      "outputs": []
    },
    {
      "cell_type": "code",
      "metadata": {
        "id": "aYtkxecmFcDd",
        "colab_type": "code",
        "colab": {}
      },
      "source": [
        "!pip install -q joypy\n",
        "import joypy\n",
        "!pip install -q PyDrive\n"
      ],
      "execution_count": null,
      "outputs": []
    },
    {
      "cell_type": "markdown",
      "metadata": {
        "id": "7hlYp6IsmZU0",
        "colab_type": "text"
      },
      "source": [
        "The followwing raw github is a frozen version of https://www.kaggle.com/andrewmvd/udemy-courses/download.  We believe that this file is just a small sample of all Udemy offerings but have chosen to use it as a snapshot of older course stats so we can compare them with more recent values and see if and how they changed."
      ]
    },
    {
      "cell_type": "code",
      "metadata": {
        "id": "nMLHV_ewF9ES",
        "colab_type": "code",
        "colab": {
          "base_uri": "https://localhost:8080/",
          "height": 34
        },
        "outputId": "e8c20706-52d5-4f2e-dea1-c161455d5372"
      },
      "source": [
        "df = pd.read_csv('https://raw.githubusercontent.com/NoamTene/Udemy/master/datasets_646598_1162286_udemy_courses.csv')\n",
        "df.shape"
      ],
      "execution_count": null,
      "outputs": [
        {
          "output_type": "execute_result",
          "data": {
            "text/plain": [
              "(3678, 12)"
            ]
          },
          "metadata": {
            "tags": []
          },
          "execution_count": 3
        }
      ]
    },
    {
      "cell_type": "code",
      "metadata": {
        "id": "HMfJVhimI-3D",
        "colab_type": "code",
        "colab": {
          "base_uri": "https://localhost:8080/",
          "height": 451
        },
        "outputId": "b6060d9f-7762-4668-9cfb-ef2e54ad740c"
      },
      "source": [
        "df.sample(5)"
      ],
      "execution_count": null,
      "outputs": [
        {
          "output_type": "execute_result",
          "data": {
            "text/html": [
              "<div>\n",
              "<style scoped>\n",
              "    .dataframe tbody tr th:only-of-type {\n",
              "        vertical-align: middle;\n",
              "    }\n",
              "\n",
              "    .dataframe tbody tr th {\n",
              "        vertical-align: top;\n",
              "    }\n",
              "\n",
              "    .dataframe thead th {\n",
              "        text-align: right;\n",
              "    }\n",
              "</style>\n",
              "<table border=\"1\" class=\"dataframe\">\n",
              "  <thead>\n",
              "    <tr style=\"text-align: right;\">\n",
              "      <th></th>\n",
              "      <th>course_id</th>\n",
              "      <th>course_title</th>\n",
              "      <th>url</th>\n",
              "      <th>is_paid</th>\n",
              "      <th>price</th>\n",
              "      <th>num_subscribers</th>\n",
              "      <th>num_reviews</th>\n",
              "      <th>num_lectures</th>\n",
              "      <th>level</th>\n",
              "      <th>content_duration</th>\n",
              "      <th>published_timestamp</th>\n",
              "      <th>subject</th>\n",
              "    </tr>\n",
              "  </thead>\n",
              "  <tbody>\n",
              "    <tr>\n",
              "      <th>3522</th>\n",
              "      <td>388286</td>\n",
              "      <td>CoffeeScript: The Good Parts—Write Better java...</td>\n",
              "      <td>https://www.udemy.com/coffeescript/</td>\n",
              "      <td>True</td>\n",
              "      <td>50</td>\n",
              "      <td>2152</td>\n",
              "      <td>19</td>\n",
              "      <td>15</td>\n",
              "      <td>Beginner Level</td>\n",
              "      <td>2.5</td>\n",
              "      <td>2015-01-13T04:50:51Z</td>\n",
              "      <td>Web Development</td>\n",
              "    </tr>\n",
              "    <tr>\n",
              "      <th>3340</th>\n",
              "      <td>520302</td>\n",
              "      <td>Learn to make an HTML 5 website with a video b...</td>\n",
              "      <td>https://www.udemy.com/learn-to-make-an-html-5-...</td>\n",
              "      <td>True</td>\n",
              "      <td>80</td>\n",
              "      <td>1236</td>\n",
              "      <td>18</td>\n",
              "      <td>14</td>\n",
              "      <td>All Levels</td>\n",
              "      <td>0.5</td>\n",
              "      <td>2015-06-05T18:13:08Z</td>\n",
              "      <td>Web Development</td>\n",
              "    </tr>\n",
              "    <tr>\n",
              "      <th>1191</th>\n",
              "      <td>900472</td>\n",
              "      <td>How To Earn Some Bitcoin Every Time You Use A ...</td>\n",
              "      <td>https://www.udemy.com/getting-paid-to-search-t...</td>\n",
              "      <td>True</td>\n",
              "      <td>20</td>\n",
              "      <td>89</td>\n",
              "      <td>23</td>\n",
              "      <td>10</td>\n",
              "      <td>All Levels</td>\n",
              "      <td>1.0</td>\n",
              "      <td>2016-07-09T20:50:29Z</td>\n",
              "      <td>Business Finance</td>\n",
              "    </tr>\n",
              "    <tr>\n",
              "      <th>2075</th>\n",
              "      <td>504168</td>\n",
              "      <td>Learn Flute FAST!</td>\n",
              "      <td>https://www.udemy.com/learn-flute-fast/</td>\n",
              "      <td>True</td>\n",
              "      <td>45</td>\n",
              "      <td>249</td>\n",
              "      <td>33</td>\n",
              "      <td>61</td>\n",
              "      <td>Beginner Level</td>\n",
              "      <td>4.0</td>\n",
              "      <td>2015-06-02T19:50:16Z</td>\n",
              "      <td>Musical Instruments</td>\n",
              "    </tr>\n",
              "    <tr>\n",
              "      <th>280</th>\n",
              "      <td>863998</td>\n",
              "      <td>株式投資で本当のファンダメンタル分析ができるようになる</td>\n",
              "      <td>https://www.udemy.com/jun-sakai-trading-course3/</td>\n",
              "      <td>True</td>\n",
              "      <td>20</td>\n",
              "      <td>91</td>\n",
              "      <td>7</td>\n",
              "      <td>30</td>\n",
              "      <td>All Levels</td>\n",
              "      <td>2.0</td>\n",
              "      <td>2016-06-21T17:59:58Z</td>\n",
              "      <td>Business Finance</td>\n",
              "    </tr>\n",
              "  </tbody>\n",
              "</table>\n",
              "</div>"
            ],
            "text/plain": [
              "      course_id  ...              subject\n",
              "3522     388286  ...      Web Development\n",
              "3340     520302  ...      Web Development\n",
              "1191     900472  ...     Business Finance\n",
              "2075     504168  ...  Musical Instruments\n",
              "280      863998  ...     Business Finance\n",
              "\n",
              "[5 rows x 12 columns]"
            ]
          },
          "metadata": {
            "tags": []
          },
          "execution_count": 4
        }
      ]
    },
    {
      "cell_type": "markdown",
      "metadata": {
        "id": "-WzedE8wogGk",
        "colab_type": "text"
      },
      "source": [
        "A naive first attempt to plot a histogram of the number of subscribers does not give much information:"
      ]
    },
    {
      "cell_type": "code",
      "metadata": {
        "id": "RxqBGX1zhVCz",
        "colab_type": "code",
        "colab": {
          "base_uri": "https://localhost:8080/",
          "height": 264
        },
        "outputId": "3d3e1ece-9a22-47fe-b538-bb15525b6075"
      },
      "source": [
        "plt.hist(df.num_subscribers,bins=20);"
      ],
      "execution_count": null,
      "outputs": [
        {
          "output_type": "display_data",
          "data": {
            "image/png": "[encoded data removed]",
            "text/plain": [
              "<Figure size 432x288 with 1 Axes>"
            ]
          },
          "metadata": {
            "tags": [],
            "needs_background": "light"
          }
        }
      ]
    },
    {
      "cell_type": "markdown",
      "metadata": {
        "id": "LHzdbMAGpAxg",
        "colab_type": "text"
      },
      "source": [
        "The first naive attempt does tells us a few things that are helpful in generating a more meaningful plot:\n",
        "\n",
        "1. Most of the courses are in the lowest bin with much less than 50,000 subscribers\n",
        "2. There must be a few courses with more than 250,000 subscribers listed even though we can not see them on this scale.  Otherwise the x-axis would not extend that far.\n",
        "3. A log plot may at least make it possible to see these few outliers.\n",
        "4. Using more histogram bins may help see the details"
      ]
    },
    {
      "cell_type": "code",
      "metadata": {
        "id": "cCSBd6MzWeHF",
        "colab_type": "code",
        "colab": {
          "base_uri": "https://localhost:8080/",
          "height": 282
        },
        "outputId": "d25c96eb-19b7-4234-8069-f0a84352895c"
      },
      "source": [
        "print(\"sum(num_subscribers)=\",df.num_subscribers.sum())\n",
        "plt.yscale('log')\n",
        "plt.hist(df.num_subscribers,bins=50);"
      ],
      "execution_count": null,
      "outputs": [
        {
          "output_type": "stream",
          "text": [
            "sum(num_subscribers)= 11759120\n"
          ],
          "name": "stdout"
        },
        {
          "output_type": "display_data",
          "data": {
            "image/png": "[encoded data removed]",
            "text/plain": [
              "<Figure size 432x288 with 1 Axes>"
            ]
          },
          "metadata": {
            "tags": [],
            "needs_background": "light"
          }
        }
      ]
    },
    {
      "cell_type": "markdown",
      "metadata": {
        "id": "AjRp1NSamIp5",
        "colab_type": "text"
      },
      "source": [
        "We can now see that there is indeed only one course with more than 250,000 subscribers which is more than 2% of all subscribers in the data set.\n",
        "We also see that there are only a few others with more than 80,000.  \n",
        "\n",
        "We can not ignore these few outliers because as few as they are, they represent a significant percentage of the total Udemy subscribers (and the corresponding enrollment and possible revenue).  However, we already know that they form their own category and need to be analyzed separately if we want our statistical analysis to have any meaning.\n",
        "\n",
        "For now lets try to zoom in on the majority of the courses."
      ]
    },
    {
      "cell_type": "code",
      "metadata": {
        "id": "AYU0ZhAGucMp",
        "colab_type": "code",
        "colab": {
          "base_uri": "https://localhost:8080/",
          "height": 264
        },
        "outputId": "63538156-dbd5-4c87-f2c9-66ce56c50a64"
      },
      "source": [
        "plt.hist(df.query(\"num_subscribers<80000\").num_subscribers,bins=50);"
      ],
      "execution_count": null,
      "outputs": [
        {
          "output_type": "display_data",
          "data": {
            "image/png": "[encoded data removed]",
            "text/plain": [
              "<Figure size 432x288 with 1 Axes>"
            ]
          },
          "metadata": {
            "tags": [],
            "needs_background": "light"
          }
        }
      ]
    },
    {
      "cell_type": "markdown",
      "metadata": {
        "id": "dhrSixORuhy0",
        "colab_type": "text"
      },
      "source": [
        "Apparently most of the courses still cluster in the lower end bins with fewer than 10,000 subscribers and there are still some large courses that get drowned out if we do not use the log scale - so lets bring it back:"
      ]
    },
    {
      "cell_type": "code",
      "metadata": {
        "id": "tErbgqtDa7bt",
        "colab_type": "code",
        "colab": {
          "base_uri": "https://localhost:8080/",
          "height": 264
        },
        "outputId": "21fb498a-dbf9-497f-be07-340693a9b897"
      },
      "source": [
        "plt.hist(df.query(\"num_subscribers<80000\").num_subscribers,bins=50)\n",
        "plt.yscale('log')"
      ],
      "execution_count": null,
      "outputs": [
        {
          "output_type": "display_data",
          "data": {
            "image/png": "[encoded data removed]",
            "text/plain": [
              "<Figure size 432x288 with 1 Axes>"
            ]
          },
          "metadata": {
            "tags": [],
            "needs_background": "light"
          }
        }
      ]
    },
    {
      "cell_type": "markdown",
      "metadata": {
        "id": "9ZzdZ8KUtdPq",
        "colab_type": "text"
      },
      "source": [
        "We can now see three distinct regions in the subscriber data:\n",
        "1. Many courses have less than 2000 subscribers.\n",
        "2. There is a middle region where a linear fit (to a log scale) might do a reasonable job of approximating the data.\n",
        "3. Courses with more than 40,000 subscribers probably belong with the few outlier we took out earlier.\n",
        "\n",
        "Lets try to zoom in some more and remove the log scale:"
      ]
    },
    {
      "cell_type": "code",
      "metadata": {
        "id": "u3QUzuPPxmoQ",
        "colab_type": "code",
        "colab": {
          "base_uri": "https://localhost:8080/",
          "height": 264
        },
        "outputId": "40c14785-41f9-4415-93bd-a70d76687d37"
      },
      "source": [
        "plt.hist(df.query(\"num_subscribers<40000\").num_subscribers,bins=50);"
      ],
      "execution_count": null,
      "outputs": [
        {
          "output_type": "display_data",
          "data": {
            "image/png": "[encoded data removed]",
            "text/plain": [
              "<Figure size 432x288 with 1 Axes>"
            ]
          },
          "metadata": {
            "tags": [],
            "needs_background": "light"
          }
        }
      ]
    },
    {
      "cell_type": "markdown",
      "metadata": {
        "id": "JVIeb58py_N-",
        "colab_type": "text"
      },
      "source": [
        "With the log scale removed, the area under the histogram might tells us something meaningful about the distribution of course sizes.  But we are not there yet ...\n",
        "\n",
        "We know from the earlier log plot that there are more than 10 courses with at least 30,000 subscribers each that are drowned out by the vertical scale of this plot.\n",
        "\n",
        "Let's take a closer look at the courses on the lower end of the subscriber numbers that are drowning out our real data.  There may be a large number of these courses but with their low attentance they represent only a small portion of the student population:"
      ]
    },
    {
      "cell_type": "code",
      "metadata": {
        "id": "myo9vH540k8H",
        "colab_type": "code",
        "colab": {
          "base_uri": "https://localhost:8080/",
          "height": 353
        },
        "outputId": "b1cfbab5-bfbf-47b2-d4db-45e89ecbb032"
      },
      "source": [
        "print(\"sum(num_subscribers<100)=    \", df.query(\"num_subscribers<100\").num_subscribers.sum())\n",
        "print(\"sum(num_subscribers    )= \",                                 df.num_subscribers.sum())\n",
        "plt.hist(df.query(\"num_subscribers<100\").num_subscribers,bins=100);\n",
        "print(\"Number of courses with num_subscribers<  20: \",df.query(\"num_subscribers< 20\").shape[0])\n",
        "print(\"Number of courses with num_subscribers< 100: \",df.query(\"num_subscribers<100\").shape[0])\n",
        "print(\"Number of courses                          :\",                              df.shape[0])\n"
      ],
      "execution_count": null,
      "outputs": [
        {
          "output_type": "stream",
          "text": [
            "sum(num_subscribers<100)=     26302\n",
            "sum(num_subscribers    )=  11759120\n",
            "Number of courses with num_subscribers<  20:  443\n",
            "Number of courses with num_subscribers< 100:  885\n",
            "Number of courses                          : 3678\n"
          ],
          "name": "stdout"
        },
        {
          "output_type": "display_data",
          "data": {
            "image/png": "[encoded data removed]",
            "text/plain": [
              "<Figure size 432x288 with 1 Axes>"
            ]
          },
          "metadata": {
            "tags": [],
            "needs_background": "light"
          }
        }
      ]
    },
    {
      "cell_type": "markdown",
      "metadata": {
        "id": "CilQclsN7cva",
        "colab_type": "text"
      },
      "source": [
        "Let's plot the cumulative number of subscribers when we sort the data:"
      ]
    },
    {
      "cell_type": "code",
      "metadata": {
        "id": "4p1tn-qd5CGe",
        "colab_type": "code",
        "colab": {
          "base_uri": "https://localhost:8080/",
          "height": 293
        },
        "outputId": "a3cc1a6a-ef57-4e77-ffc4-d79aeb064b79"
      },
      "source": [
        "Sorted_subsc = df.num_subscribers.sort_values()\n",
        "cum_subsc=np.cumsum(Sorted_subsc).reset_index(drop=True)\n",
        "plt.plot(cum_subsc)"
      ],
      "execution_count": null,
      "outputs": [
        {
          "output_type": "execute_result",
          "data": {
            "text/plain": [
              "[<matplotlib.lines.Line2D at 0x7f2182c6c5f8>]"
            ]
          },
          "metadata": {
            "tags": []
          },
          "execution_count": 50
        },
        {
          "output_type": "display_data",
          "data": {
            "image/png": "[encoded data removed]",
            "text/plain": [
              "<Figure size 432x288 with 1 Axes>"
            ]
          },
          "metadata": {
            "tags": [],
            "needs_background": "light"
          }
        }
      ]
    },
    {
      "cell_type": "markdown",
      "metadata": {
        "id": "joK7vZ1a7-6M",
        "colab_type": "text"
      },
      "source": [
        "We see that the lower 3000 courses (about 80% of the courses) have fewer than 25% of the total subscribers.  Most of the subscribers are enrolled in the top 20% of courses (in terms of popularity) - which should not be surprising.  What it does tell us is that we need to be careful in applying statistical tools like averages and medians which are meaningless in this type of data."
      ]
    }
  ]
}