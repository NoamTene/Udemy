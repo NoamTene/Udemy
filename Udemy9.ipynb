{
  "nbformat": 4,
  "nbformat_minor": 0,
  "metadata": {
    "colab": {
      "name": "Udemy9",
      "provenance": [],
      "collapsed_sections": [],
      "mount_file_id": "19N5ZqohtrL2FPRUxB-a6HFgRz0seYsFd",
      "authorship_tag": "ABX9TyPNJwnpxMs1pIOdKY9FYmys",
      "include_colab_link": true
    },
    "kernelspec": {
      "name": "python3",
      "display_name": "Python 3"
    }
  },
  "cells": [
    {
      "cell_type": "markdown",
      "metadata": {
        "id": "view-in-github",
        "colab_type": "text"
      },
      "source": [
        "<a href=\"https://colab.research.google.com/github/NoamTene/Udemy/blob/master/Udemy9.ipynb\" target=\"_parent\"><img src=\"https://colab.research.google.com/assets/colab-badge.svg\" alt=\"Open In Colab\"/></a>"
      ]
    },
    {
      "cell_type": "code",
      "metadata": {
        "id": "tLmGqAviv1xs",
        "colab_type": "code",
        "colab": {}
      },
      "source": [
        "import pandas as pd\n",
        "import numpy  as np\n",
        "\n",
        "import matplotlib.pyplot as plt\n",
        "import plotly.graph_objects as go\n",
        "import plotly.express  as px\n",
        "import math\n",
        "\n",
        "from matplotlib import cm\n",
        "plt.style.use('ggplot')"
      ],
      "execution_count": 1,
      "outputs": []
    },
    {
      "cell_type": "code",
      "metadata": {
        "id": "LRBhHxS61UK_",
        "colab_type": "code",
        "colab": {}
      },
      "source": [
        "#from pylab import rcParams\n",
        "#rcParams['figure.figsize'] = 6, 12"
      ],
      "execution_count": 2,
      "outputs": []
    },
    {
      "cell_type": "markdown",
      "metadata": {
        "id": "7hlYp6IsmZU0",
        "colab_type": "text"
      },
      "source": [
        "The following raw github is a frozen version of https://www.kaggle.com/andrewmvd/udemy-courses/download.  We believe that this file is just a small sample of all Udemy offerings but have chosen to use it as a snapshot of older course stats so we can compare them with more recent values and see if and how they changed."
      ]
    },
    {
      "cell_type": "code",
      "metadata": {
        "id": "nMLHV_ewF9ES",
        "colab_type": "code",
        "colab": {
          "base_uri": "https://localhost:8080/",
          "height": 265
        },
        "outputId": "868ed158-6d59-4dd2-c438-d47cbe7a4277"
      },
      "source": [
        "df1 = pd.read_csv('https://raw.githubusercontent.com/NoamTene/Udemy/master/datasets_646598_1162286_udemy_courses.csv')\n",
        "print(df1.shape)\n",
        "df1.count()"
      ],
      "execution_count": 3,
      "outputs": [
        {
          "output_type": "stream",
          "text": [
            "(3678, 12)\n"
          ],
          "name": "stdout"
        },
        {
          "output_type": "execute_result",
          "data": {
            "text/plain": [
              "course_id              3678\n",
              "course_title           3678\n",
              "url                    3678\n",
              "is_paid                3678\n",
              "price                  3678\n",
              "num_subscribers        3678\n",
              "num_reviews            3678\n",
              "num_lectures           3678\n",
              "level                  3678\n",
              "content_duration       3678\n",
              "published_timestamp    3678\n",
              "subject                3678\n",
              "dtype: int64"
            ]
          },
          "metadata": {
            "tags": []
          },
          "execution_count": 3
        }
      ]
    },
    {
      "cell_type": "code",
      "metadata": {
        "id": "HMAnURFOctNf",
        "colab_type": "code",
        "colab": {
          "base_uri": "https://localhost:8080/",
          "height": 265
        },
        "outputId": "f44925dc-bb0e-4560-e3c8-3f5f3cf29268"
      },
      "source": [
        "df1.drop_duplicates(inplace=True)\n",
        "print(df1.shape)\n",
        "df1.count()"
      ],
      "execution_count": 4,
      "outputs": [
        {
          "output_type": "stream",
          "text": [
            "(3672, 12)\n"
          ],
          "name": "stdout"
        },
        {
          "output_type": "execute_result",
          "data": {
            "text/plain": [
              "course_id              3672\n",
              "course_title           3672\n",
              "url                    3672\n",
              "is_paid                3672\n",
              "price                  3672\n",
              "num_subscribers        3672\n",
              "num_reviews            3672\n",
              "num_lectures           3672\n",
              "level                  3672\n",
              "content_duration       3672\n",
              "published_timestamp    3672\n",
              "subject                3672\n",
              "dtype: int64"
            ]
          },
          "metadata": {
            "tags": []
          },
          "execution_count": 4
        }
      ]
    },
    {
      "cell_type": "markdown",
      "metadata": {
        "id": "skCgMvzz15W6",
        "colab_type": "text"
      },
      "source": [
        "The following file was generated by David Margulis for a Class project presumably using the code in UdemyDavid_MakeNewSnapshot_TRY.ipynb within this github repository.  David has edited the text manually before passing it on to this frozen version."
      ]
    },
    {
      "cell_type": "code",
      "metadata": {
        "id": "va5ik6c_p8Qo",
        "colab_type": "code",
        "colab": {
          "base_uri": "https://localhost:8080/",
          "height": 318
        },
        "outputId": "392564dd-f67b-435c-9e62-8d47895f2617"
      },
      "source": [
        "df2= pd.read_csv('https://raw.githubusercontent.com/NoamTene/Udemy/master/Rates_9July_new.csv')\n",
        "print(df2.shape)\n",
        "df2.count()"
      ],
      "execution_count": 5,
      "outputs": [
        {
          "output_type": "stream",
          "text": [
            "(3678, 15)\n"
          ],
          "name": "stdout"
        },
        {
          "output_type": "execute_result",
          "data": {
            "text/plain": [
              "CourseID       3678\n",
              "ReadStat       3678\n",
              "Rate1          2670\n",
              "Rate2          2670\n",
              "Rate3          2670\n",
              "Rate4          2670\n",
              "Rate5          2670\n",
              "Sum            2670\n",
              "NewEnrolled    2724\n",
              "UpdateDate     3668\n",
              "Upd_monthes    2424\n",
              "Orig_Price     2599\n",
              "Curr_Price     2599\n",
              "Discount       2599\n",
              "Time           3668\n",
              "dtype: int64"
            ]
          },
          "metadata": {
            "tags": []
          },
          "execution_count": 5
        }
      ]
    },
    {
      "cell_type": "code",
      "metadata": {
        "id": "yrItX26odhtD",
        "colab_type": "code",
        "colab": {
          "base_uri": "https://localhost:8080/",
          "height": 301
        },
        "outputId": "561cb799-07dc-45e7-a610-a2d2b3595926"
      },
      "source": [
        "df2.drop_duplicates(subset='CourseID',inplace=True)\n",
        "df2.count()"
      ],
      "execution_count": 6,
      "outputs": [
        {
          "output_type": "execute_result",
          "data": {
            "text/plain": [
              "CourseID       3672\n",
              "ReadStat       3672\n",
              "Rate1          2666\n",
              "Rate2          2666\n",
              "Rate3          2666\n",
              "Rate4          2666\n",
              "Rate5          2666\n",
              "Sum            2666\n",
              "NewEnrolled    2720\n",
              "UpdateDate     3662\n",
              "Upd_monthes    2420\n",
              "Orig_Price     2595\n",
              "Curr_Price     2595\n",
              "Discount       2595\n",
              "Time           3662\n",
              "dtype: int64"
            ]
          },
          "metadata": {
            "tags": []
          },
          "execution_count": 6
        }
      ]
    },
    {
      "cell_type": "code",
      "metadata": {
        "id": "HMfJVhimI-3D",
        "colab_type": "code",
        "colab": {
          "base_uri": "https://localhost:8080/",
          "height": 281
        },
        "outputId": "9bd6cb1e-bdf7-4af6-e473-95f555a42269"
      },
      "source": [
        "df1.sample(5)"
      ],
      "execution_count": 7,
      "outputs": [
        {
          "output_type": "execute_result",
          "data": {
            "text/html": [
              "<div>\n",
              "<style scoped>\n",
              "    .dataframe tbody tr th:only-of-type {\n",
              "        vertical-align: middle;\n",
              "    }\n",
              "\n",
              "    .dataframe tbody tr th {\n",
              "        vertical-align: top;\n",
              "    }\n",
              "\n",
              "    .dataframe thead th {\n",
              "        text-align: right;\n",
              "    }\n",
              "</style>\n",
              "<table border=\"1\" class=\"dataframe\">\n",
              "  <thead>\n",
              "    <tr style=\"text-align: right;\">\n",
              "      <th></th>\n",
              "      <th>course_id</th>\n",
              "      <th>course_title</th>\n",
              "      <th>url</th>\n",
              "      <th>is_paid</th>\n",
              "      <th>price</th>\n",
              "      <th>num_subscribers</th>\n",
              "      <th>num_reviews</th>\n",
              "      <th>num_lectures</th>\n",
              "      <th>level</th>\n",
              "      <th>content_duration</th>\n",
              "      <th>published_timestamp</th>\n",
              "      <th>subject</th>\n",
              "    </tr>\n",
              "  </thead>\n",
              "  <tbody>\n",
              "    <tr>\n",
              "      <th>3183</th>\n",
              "      <td>866460</td>\n",
              "      <td>Angular 2+ with Typescript - Essential Training</td>\n",
              "      <td>https://www.udemy.com/angular-2-training/</td>\n",
              "      <td>True</td>\n",
              "      <td>195</td>\n",
              "      <td>29348</td>\n",
              "      <td>780</td>\n",
              "      <td>66</td>\n",
              "      <td>Beginner Level</td>\n",
              "      <td>3.0</td>\n",
              "      <td>2016-11-29T04:08:03Z</td>\n",
              "      <td>Web Development</td>\n",
              "    </tr>\n",
              "    <tr>\n",
              "      <th>1388</th>\n",
              "      <td>673142</td>\n",
              "      <td>master course - realistisch zeichnen lernen</td>\n",
              "      <td>https://www.udemy.com/realistisch-zeichnen-ler...</td>\n",
              "      <td>True</td>\n",
              "      <td>20</td>\n",
              "      <td>280</td>\n",
              "      <td>46</td>\n",
              "      <td>33</td>\n",
              "      <td>All Levels</td>\n",
              "      <td>5.0</td>\n",
              "      <td>2016-02-10T00:25:00Z</td>\n",
              "      <td>Graphic Design</td>\n",
              "    </tr>\n",
              "    <tr>\n",
              "      <th>1373</th>\n",
              "      <td>52457</td>\n",
              "      <td>The Logo Design Process From Start To Finish</td>\n",
              "      <td>https://www.udemy.com/the-logo-design-process-...</td>\n",
              "      <td>True</td>\n",
              "      <td>95</td>\n",
              "      <td>2361</td>\n",
              "      <td>74</td>\n",
              "      <td>40</td>\n",
              "      <td>All Levels</td>\n",
              "      <td>5.5</td>\n",
              "      <td>2013-09-24T03:52:32Z</td>\n",
              "      <td>Graphic Design</td>\n",
              "    </tr>\n",
              "    <tr>\n",
              "      <th>3206</th>\n",
              "      <td>405282</td>\n",
              "      <td>PHP for Beginners -Become a PHP Master - Proje...</td>\n",
              "      <td>https://www.udemy.com/php-for-complete-beginne...</td>\n",
              "      <td>True</td>\n",
              "      <td>200</td>\n",
              "      <td>28880</td>\n",
              "      <td>4316</td>\n",
              "      <td>286</td>\n",
              "      <td>All Levels</td>\n",
              "      <td>30.5</td>\n",
              "      <td>2015-02-14T00:54:08Z</td>\n",
              "      <td>Web Development</td>\n",
              "    </tr>\n",
              "    <tr>\n",
              "      <th>633</th>\n",
              "      <td>1179546</td>\n",
              "      <td>An Introduction to Financial Markets on Wall S...</td>\n",
              "      <td>https://www.udemy.com/an-introduction-to-finan...</td>\n",
              "      <td>True</td>\n",
              "      <td>30</td>\n",
              "      <td>7</td>\n",
              "      <td>1</td>\n",
              "      <td>29</td>\n",
              "      <td>All Levels</td>\n",
              "      <td>2.0</td>\n",
              "      <td>2017-04-28T00:08:38Z</td>\n",
              "      <td>Business Finance</td>\n",
              "    </tr>\n",
              "  </tbody>\n",
              "</table>\n",
              "</div>"
            ],
            "text/plain": [
              "      course_id  ...           subject\n",
              "3183     866460  ...   Web Development\n",
              "1388     673142  ...    Graphic Design\n",
              "1373      52457  ...    Graphic Design\n",
              "3206     405282  ...   Web Development\n",
              "633     1179546  ...  Business Finance\n",
              "\n",
              "[5 rows x 12 columns]"
            ]
          },
          "metadata": {
            "tags": []
          },
          "execution_count": 7
        }
      ]
    },
    {
      "cell_type": "code",
      "metadata": {
        "id": "sbkgVrlD5AYd",
        "colab_type": "code",
        "colab": {
          "base_uri": "https://localhost:8080/",
          "height": 197
        },
        "outputId": "64fb96da-cdca-4528-ac00-7c534636190e"
      },
      "source": [
        "df2.sample(5)"
      ],
      "execution_count": 8,
      "outputs": [
        {
          "output_type": "execute_result",
          "data": {
            "text/html": [
              "<div>\n",
              "<style scoped>\n",
              "    .dataframe tbody tr th:only-of-type {\n",
              "        vertical-align: middle;\n",
              "    }\n",
              "\n",
              "    .dataframe tbody tr th {\n",
              "        vertical-align: top;\n",
              "    }\n",
              "\n",
              "    .dataframe thead th {\n",
              "        text-align: right;\n",
              "    }\n",
              "</style>\n",
              "<table border=\"1\" class=\"dataframe\">\n",
              "  <thead>\n",
              "    <tr style=\"text-align: right;\">\n",
              "      <th></th>\n",
              "      <th>CourseID</th>\n",
              "      <th>ReadStat</th>\n",
              "      <th>Rate1</th>\n",
              "      <th>Rate2</th>\n",
              "      <th>Rate3</th>\n",
              "      <th>Rate4</th>\n",
              "      <th>Rate5</th>\n",
              "      <th>Sum</th>\n",
              "      <th>NewEnrolled</th>\n",
              "      <th>UpdateDate</th>\n",
              "      <th>Upd_monthes</th>\n",
              "      <th>Orig_Price</th>\n",
              "      <th>Curr_Price</th>\n",
              "      <th>Discount</th>\n",
              "      <th>Time</th>\n",
              "    </tr>\n",
              "  </thead>\n",
              "  <tbody>\n",
              "    <tr>\n",
              "      <th>27</th>\n",
              "      <td>447362</td>\n",
              "      <td>OK</td>\n",
              "      <td>16.0</td>\n",
              "      <td>26.0</td>\n",
              "      <td>64.0</td>\n",
              "      <td>154.0</td>\n",
              "      <td>336.0</td>\n",
              "      <td>596.0</td>\n",
              "      <td>7424.0</td>\n",
              "      <td>6/2019</td>\n",
              "      <td>13.0</td>\n",
              "      <td>699.99</td>\n",
              "      <td>419.99</td>\n",
              "      <td>40.0</td>\n",
              "      <td>2020-07-09 13:34:54</td>\n",
              "    </tr>\n",
              "    <tr>\n",
              "      <th>2476</th>\n",
              "      <td>218856</td>\n",
              "      <td>OK</td>\n",
              "      <td>0.0</td>\n",
              "      <td>0.0</td>\n",
              "      <td>0.0</td>\n",
              "      <td>0.0</td>\n",
              "      <td>1.0</td>\n",
              "      <td>1.0</td>\n",
              "      <td>14.0</td>\n",
              "      <td>5/2014</td>\n",
              "      <td>74.0</td>\n",
              "      <td>199.99</td>\n",
              "      <td>119.99</td>\n",
              "      <td>40.0</td>\n",
              "      <td>2020-07-09 15:44:52</td>\n",
              "    </tr>\n",
              "    <tr>\n",
              "      <th>2237</th>\n",
              "      <td>1040596</td>\n",
              "      <td>OK</td>\n",
              "      <td>0.0</td>\n",
              "      <td>0.0</td>\n",
              "      <td>0.0</td>\n",
              "      <td>0.0</td>\n",
              "      <td>3.0</td>\n",
              "      <td>3.0</td>\n",
              "      <td>54.0</td>\n",
              "      <td>10/2017</td>\n",
              "      <td>33.0</td>\n",
              "      <td>NaN</td>\n",
              "      <td>NaN</td>\n",
              "      <td>NaN</td>\n",
              "      <td>2020-07-09 15:31:39</td>\n",
              "    </tr>\n",
              "    <tr>\n",
              "      <th>2293</th>\n",
              "      <td>476000</td>\n",
              "      <td>OK</td>\n",
              "      <td>5.0</td>\n",
              "      <td>2.0</td>\n",
              "      <td>6.0</td>\n",
              "      <td>15.0</td>\n",
              "      <td>31.0</td>\n",
              "      <td>59.0</td>\n",
              "      <td>531.0</td>\n",
              "      <td>9/2015</td>\n",
              "      <td>58.0</td>\n",
              "      <td>459.99</td>\n",
              "      <td>275.99</td>\n",
              "      <td>40.0</td>\n",
              "      <td>2020-07-09 15:33:43</td>\n",
              "    </tr>\n",
              "    <tr>\n",
              "      <th>1590</th>\n",
              "      <td>403764</td>\n",
              "      <td>OK</td>\n",
              "      <td>1.0</td>\n",
              "      <td>0.0</td>\n",
              "      <td>1.0</td>\n",
              "      <td>3.0</td>\n",
              "      <td>6.0</td>\n",
              "      <td>11.0</td>\n",
              "      <td>544.0</td>\n",
              "      <td>0/0</td>\n",
              "      <td>NaN</td>\n",
              "      <td>239.99</td>\n",
              "      <td>143.99</td>\n",
              "      <td>40.0</td>\n",
              "      <td>2020-07-09 14:42:24</td>\n",
              "    </tr>\n",
              "  </tbody>\n",
              "</table>\n",
              "</div>"
            ],
            "text/plain": [
              "      CourseID ReadStat  Rate1  ...  Curr_Price  Discount                   Time\n",
              "27      447362       OK   16.0  ...      419.99      40.0   2020-07-09 13:34:54 \n",
              "2476    218856       OK    0.0  ...      119.99      40.0   2020-07-09 15:44:52 \n",
              "2237   1040596       OK    0.0  ...         NaN       NaN   2020-07-09 15:31:39 \n",
              "2293    476000       OK    5.0  ...      275.99      40.0   2020-07-09 15:33:43 \n",
              "1590    403764       OK    1.0  ...      143.99      40.0   2020-07-09 14:42:24 \n",
              "\n",
              "[5 rows x 15 columns]"
            ]
          },
          "metadata": {
            "tags": []
          },
          "execution_count": 8
        }
      ]
    },
    {
      "cell_type": "markdown",
      "metadata": {
        "id": "sQ2Ew1m6Q9LC",
        "colab_type": "text"
      },
      "source": [
        "Sanity check: Verify that Sum is redundant."
      ]
    },
    {
      "cell_type": "code",
      "metadata": {
        "id": "hSkD20Nz6o_a",
        "colab_type": "code",
        "colab": {
          "base_uri": "https://localhost:8080/",
          "height": 47
        },
        "outputId": "76d4798f-27dc-46a8-c0c5-5b9a51412814"
      },
      "source": [
        "df2[(df2.Rate1+df2.Rate2+df2.Rate3+df2.Rate4+df2.Rate5!=df2.Sum)  & (df2.Sum==df2.Sum)] "
      ],
      "execution_count": 9,
      "outputs": [
        {
          "output_type": "execute_result",
          "data": {
            "text/html": [
              "<div>\n",
              "<style scoped>\n",
              "    .dataframe tbody tr th:only-of-type {\n",
              "        vertical-align: middle;\n",
              "    }\n",
              "\n",
              "    .dataframe tbody tr th {\n",
              "        vertical-align: top;\n",
              "    }\n",
              "\n",
              "    .dataframe thead th {\n",
              "        text-align: right;\n",
              "    }\n",
              "</style>\n",
              "<table border=\"1\" class=\"dataframe\">\n",
              "  <thead>\n",
              "    <tr style=\"text-align: right;\">\n",
              "      <th></th>\n",
              "      <th>CourseID</th>\n",
              "      <th>ReadStat</th>\n",
              "      <th>Rate1</th>\n",
              "      <th>Rate2</th>\n",
              "      <th>Rate3</th>\n",
              "      <th>Rate4</th>\n",
              "      <th>Rate5</th>\n",
              "      <th>Sum</th>\n",
              "      <th>NewEnrolled</th>\n",
              "      <th>UpdateDate</th>\n",
              "      <th>Upd_monthes</th>\n",
              "      <th>Orig_Price</th>\n",
              "      <th>Curr_Price</th>\n",
              "      <th>Discount</th>\n",
              "      <th>Time</th>\n",
              "    </tr>\n",
              "  </thead>\n",
              "  <tbody>\n",
              "  </tbody>\n",
              "</table>\n",
              "</div>"
            ],
            "text/plain": [
              "Empty DataFrame\n",
              "Columns: [CourseID, ReadStat, Rate1, Rate2, Rate3, Rate4, Rate5, Sum, NewEnrolled, UpdateDate, Upd_monthes, Orig_Price, Curr_Price, Discount, Time]\n",
              "Index: []"
            ]
          },
          "metadata": {
            "tags": []
          },
          "execution_count": 9
        }
      ]
    },
    {
      "cell_type": "markdown",
      "metadata": {
        "id": "Aj07R58y8qjn",
        "colab_type": "text"
      },
      "source": [
        "Sanity check: Verify that df1.is_paid is redundant"
      ]
    },
    {
      "cell_type": "code",
      "metadata": {
        "id": "c9i9IxOC8xHJ",
        "colab_type": "code",
        "colab": {
          "base_uri": "https://localhost:8080/",
          "height": 47
        },
        "outputId": "76e30225-f8ab-44e7-c757-606c5cb6fc49"
      },
      "source": [
        "df1[(df1.is_paid)^(df1.price!=0)] "
      ],
      "execution_count": 10,
      "outputs": [
        {
          "output_type": "execute_result",
          "data": {
            "text/html": [
              "<div>\n",
              "<style scoped>\n",
              "    .dataframe tbody tr th:only-of-type {\n",
              "        vertical-align: middle;\n",
              "    }\n",
              "\n",
              "    .dataframe tbody tr th {\n",
              "        vertical-align: top;\n",
              "    }\n",
              "\n",
              "    .dataframe thead th {\n",
              "        text-align: right;\n",
              "    }\n",
              "</style>\n",
              "<table border=\"1\" class=\"dataframe\">\n",
              "  <thead>\n",
              "    <tr style=\"text-align: right;\">\n",
              "      <th></th>\n",
              "      <th>course_id</th>\n",
              "      <th>course_title</th>\n",
              "      <th>url</th>\n",
              "      <th>is_paid</th>\n",
              "      <th>price</th>\n",
              "      <th>num_subscribers</th>\n",
              "      <th>num_reviews</th>\n",
              "      <th>num_lectures</th>\n",
              "      <th>level</th>\n",
              "      <th>content_duration</th>\n",
              "      <th>published_timestamp</th>\n",
              "      <th>subject</th>\n",
              "    </tr>\n",
              "  </thead>\n",
              "  <tbody>\n",
              "  </tbody>\n",
              "</table>\n",
              "</div>"
            ],
            "text/plain": [
              "Empty DataFrame\n",
              "Columns: [course_id, course_title, url, is_paid, price, num_subscribers, num_reviews, num_lectures, level, content_duration, published_timestamp, subject]\n",
              "Index: []"
            ]
          },
          "metadata": {
            "tags": []
          },
          "execution_count": 10
        }
      ]
    },
    {
      "cell_type": "markdown",
      "metadata": {
        "id": "ac8U_lQ9RL5i",
        "colab_type": "text"
      },
      "source": [
        "Change column names to make them consistent prior to Join."
      ]
    },
    {
      "cell_type": "code",
      "metadata": {
        "id": "fOBqxVse6MaO",
        "colab_type": "code",
        "colab": {}
      },
      "source": [
        "df2.columns=['course_id','status','rating1','rating2','rating3','rating4','rating5','rating_tot','new_subscribers','new_pub_date','upd_month','new_price','curr_price','discount','timestamp']\n",
        "df1.columns=['course_id','title','url','is_paid','old_price','old_subscribers','num_reviews','num_lectures','level','duration','old_pub_date','subject']"
      ],
      "execution_count": 11,
      "outputs": []
    },
    {
      "cell_type": "code",
      "metadata": {
        "id": "Uz29e4Zk5d4-",
        "colab_type": "code",
        "colab": {}
      },
      "source": [
        "df = df1.join(df2.set_index('course_id'),on='course_id')"
      ],
      "execution_count": 12,
      "outputs": []
    },
    {
      "cell_type": "code",
      "metadata": {
        "id": "ntH6j01YUkMT",
        "colab_type": "code",
        "colab": {
          "base_uri": "https://localhost:8080/",
          "height": 176
        },
        "outputId": "4e1d6c5b-8ae1-4ee0-82c0-98d2c03c4810"
      },
      "source": [
        "print(df1.shape)\n",
        "print(df2.shape)\n",
        "print(df.shape)\n",
        "df.columns"
      ],
      "execution_count": 13,
      "outputs": [
        {
          "output_type": "stream",
          "text": [
            "(3672, 12)\n",
            "(3672, 15)\n",
            "(3672, 26)\n"
          ],
          "name": "stdout"
        },
        {
          "output_type": "execute_result",
          "data": {
            "text/plain": [
              "Index(['course_id', 'title', 'url', 'is_paid', 'old_price', 'old_subscribers',\n",
              "       'num_reviews', 'num_lectures', 'level', 'duration', 'old_pub_date',\n",
              "       'subject', 'status', 'rating1', 'rating2', 'rating3', 'rating4',\n",
              "       'rating5', 'rating_tot', 'new_subscribers', 'new_pub_date', 'upd_month',\n",
              "       'new_price', 'curr_price', 'discount', 'timestamp'],\n",
              "      dtype='object')"
            ]
          },
          "metadata": {
            "tags": []
          },
          "execution_count": 13
        }
      ]
    },
    {
      "cell_type": "markdown",
      "metadata": {
        "id": "Mk9Q8EZvRjBC",
        "colab_type": "text"
      },
      "source": [
        "Some columns in df2 are nan or null.  Count how many valid entries there are in each column"
      ]
    },
    {
      "cell_type": "code",
      "metadata": {
        "id": "3lbrCKh5YoFZ",
        "colab_type": "code",
        "colab": {
          "base_uri": "https://localhost:8080/",
          "height": 496
        },
        "outputId": "e37dc6ac-56ab-48a9-81a4-5ed7471d272e"
      },
      "source": [
        "df.count()"
      ],
      "execution_count": 14,
      "outputs": [
        {
          "output_type": "execute_result",
          "data": {
            "text/plain": [
              "course_id          3672\n",
              "title              3672\n",
              "url                3672\n",
              "is_paid            3672\n",
              "old_price          3672\n",
              "old_subscribers    3672\n",
              "num_reviews        3672\n",
              "num_lectures       3672\n",
              "level              3672\n",
              "duration           3672\n",
              "old_pub_date       3672\n",
              "subject            3672\n",
              "status             3672\n",
              "rating1            2666\n",
              "rating2            2666\n",
              "rating3            2666\n",
              "rating4            2666\n",
              "rating5            2666\n",
              "rating_tot         2666\n",
              "new_subscribers    2720\n",
              "new_pub_date       3662\n",
              "upd_month          2420\n",
              "new_price          2595\n",
              "curr_price         2595\n",
              "discount           2595\n",
              "timestamp          3662\n",
              "dtype: int64"
            ]
          },
          "metadata": {
            "tags": []
          },
          "execution_count": 14
        }
      ]
    },
    {
      "cell_type": "code",
      "metadata": {
        "id": "4dCdeiFaBoaT",
        "colab_type": "code",
        "colab": {}
      },
      "source": [
        "df['old_revenue']  = df.old_price*df.old_subscribers\n",
        "df['new_revenue']  = df.new_price*df.new_subscribers\n",
        "df['hours_watched'] = df.num_lectures*df.old_subscribers\n",
        "df['price_per_lecture']   = df.old_price/df.num_lectures"
      ],
      "execution_count": 15,
      "outputs": []
    },
    {
      "cell_type": "code",
      "metadata": {
        "id": "thjpQTtYe5aL",
        "colab_type": "code",
        "colab": {
          "base_uri": "https://localhost:8080/",
          "height": 34
        },
        "outputId": "eb42c847-5760-4f42-ebfc-b749495ed58c"
      },
      "source": [
        "dfc = df[~np.isnan(df.new_subscribers) & ~np.isnan(df.new_price)].copy()\n",
        "dfc.shape"
      ],
      "execution_count": 16,
      "outputs": [
        {
          "output_type": "execute_result",
          "data": {
            "text/plain": [
              "(2592, 30)"
            ]
          },
          "metadata": {
            "tags": []
          },
          "execution_count": 16
        }
      ]
    },
    {
      "cell_type": "markdown",
      "metadata": {
        "id": "SkPTaEpNSXi3",
        "colab_type": "text"
      },
      "source": [
        "Note: the intersection of\n",
        "      2720 rows with valid new_subscribers and \n",
        "      2595 rows with valid new_price\n",
        "results in 2592 rows."
      ]
    },
    {
      "cell_type": "code",
      "metadata": {
        "id": "k6LU0U1v0S8W",
        "colab_type": "code",
        "colab": {
          "base_uri": "https://localhost:8080/",
          "height": 52
        },
        "outputId": "2569a852-ed4e-46fd-ba31-cc0f1ba2fa7d"
      },
      "source": [
        "new_subsTot = dfc.new_subscribers.sum()\n",
        "print(new_subsTot)\n",
        "old_subsTot = dfc.old_subscribers.sum()\n",
        "print(old_subsTot)\n"
      ],
      "execution_count": 17,
      "outputs": [
        {
          "output_type": "stream",
          "text": [
            "24702258.0\n",
            "9777804\n"
          ],
          "name": "stdout"
        }
      ]
    },
    {
      "cell_type": "code",
      "metadata": {
        "id": "vTUEZTJFGl8d",
        "colab_type": "code",
        "colab": {}
      },
      "source": [
        "dfc['new_perc_subs']  = df.new_subscribers/new_subsTot\n",
        "dfc['old_perc_subs']  = df.old_subscribers/old_subsTot"
      ],
      "execution_count": 18,
      "outputs": []
    },
    {
      "cell_type": "code",
      "metadata": {
        "id": "yxIwFHMGcKNO",
        "colab_type": "code",
        "colab": {}
      },
      "source": [
        "disp_col = ['course_id', 'title', 'url', 'old_price', \n",
        "            'old_subscribers', 'num_lectures', 'level', 'subject', \n",
        "            'new_subscribers', 'new_price', 'timestamp', \n",
        "            'old_revenue', 'new_revenue', 'hours_watched', 'price_per_lecture']"
      ],
      "execution_count": 19,
      "outputs": []
    },
    {
      "cell_type": "code",
      "metadata": {
        "id": "2kc3pmx1DZKx",
        "colab_type": "code",
        "colab": {
          "base_uri": "https://localhost:8080/",
          "height": 484
        },
        "outputId": "2f7c34cc-f614-427a-d798-2d6d0bd16a4f"
      },
      "source": [
        "dfc.sort_values('old_subscribers',inplace=True)\n",
        "dfc['cum_old_subsc']=np.cumsum(dfc.old_subscribers)/old_subsTot\n",
        "dfc[1700:1705][['cum_old_subsc']+disp_col]"
      ],
      "execution_count": 20,
      "outputs": [
        {
          "output_type": "execute_result",
          "data": {
            "text/html": [
              "<div>\n",
              "<style scoped>\n",
              "    .dataframe tbody tr th:only-of-type {\n",
              "        vertical-align: middle;\n",
              "    }\n",
              "\n",
              "    .dataframe tbody tr th {\n",
              "        vertical-align: top;\n",
              "    }\n",
              "\n",
              "    .dataframe thead th {\n",
              "        text-align: right;\n",
              "    }\n",
              "</style>\n",
              "<table border=\"1\" class=\"dataframe\">\n",
              "  <thead>\n",
              "    <tr style=\"text-align: right;\">\n",
              "      <th></th>\n",
              "      <th>cum_old_subsc</th>\n",
              "      <th>course_id</th>\n",
              "      <th>title</th>\n",
              "      <th>url</th>\n",
              "      <th>old_price</th>\n",
              "      <th>old_subscribers</th>\n",
              "      <th>num_lectures</th>\n",
              "      <th>level</th>\n",
              "      <th>subject</th>\n",
              "      <th>new_subscribers</th>\n",
              "      <th>new_price</th>\n",
              "      <th>timestamp</th>\n",
              "      <th>old_revenue</th>\n",
              "      <th>new_revenue</th>\n",
              "      <th>hours_watched</th>\n",
              "      <th>price_per_lecture</th>\n",
              "    </tr>\n",
              "  </thead>\n",
              "  <tbody>\n",
              "    <tr>\n",
              "      <th>1366</th>\n",
              "      <td>0.099939</td>\n",
              "      <td>424770</td>\n",
              "      <td>Book Design With MS Word And Canva</td>\n",
              "      <td>https://www.udemy.com/boost-your-sales-with-di...</td>\n",
              "      <td>95</td>\n",
              "      <td>1825</td>\n",
              "      <td>33</td>\n",
              "      <td>All Levels</td>\n",
              "      <td>Graphic Design</td>\n",
              "      <td>2303.0</td>\n",
              "      <td>379.99</td>\n",
              "      <td>2020-07-09 14:30:52</td>\n",
              "      <td>173375</td>\n",
              "      <td>875116.97</td>\n",
              "      <td>60225</td>\n",
              "      <td>2.878788</td>\n",
              "    </tr>\n",
              "    <tr>\n",
              "      <th>3639</th>\n",
              "      <td>0.100126</td>\n",
              "      <td>261148</td>\n",
              "      <td>create a search engine for your website!</td>\n",
              "      <td>https://www.udemy.com/create-a-simple-php-mysq...</td>\n",
              "      <td>20</td>\n",
              "      <td>1832</td>\n",
              "      <td>12</td>\n",
              "      <td>Intermediate Level</td>\n",
              "      <td>Web Development</td>\n",
              "      <td>1856.0</td>\n",
              "      <td>79.99</td>\n",
              "      <td>2020-07-09 17:22:46</td>\n",
              "      <td>36640</td>\n",
              "      <td>148461.44</td>\n",
              "      <td>21984</td>\n",
              "      <td>1.666667</td>\n",
              "    </tr>\n",
              "    <tr>\n",
              "      <th>2632</th>\n",
              "      <td>0.100314</td>\n",
              "      <td>945336</td>\n",
              "      <td>Javascript Intermediate level 1 - Mastering th...</td>\n",
              "      <td>https://www.udemy.com/javascript-intermediate-...</td>\n",
              "      <td>100</td>\n",
              "      <td>1838</td>\n",
              "      <td>31</td>\n",
              "      <td>All Levels</td>\n",
              "      <td>Web Development</td>\n",
              "      <td>3398.0</td>\n",
              "      <td>399.99</td>\n",
              "      <td>2020-07-09 16:16:48</td>\n",
              "      <td>183800</td>\n",
              "      <td>1359166.02</td>\n",
              "      <td>56978</td>\n",
              "      <td>3.225806</td>\n",
              "    </tr>\n",
              "    <tr>\n",
              "      <th>3559</th>\n",
              "      <td>0.100502</td>\n",
              "      <td>882128</td>\n",
              "      <td>The Complete JavaScript Bootcamp</td>\n",
              "      <td>https://www.udemy.com/the-complete-javascript-...</td>\n",
              "      <td>195</td>\n",
              "      <td>1839</td>\n",
              "      <td>47</td>\n",
              "      <td>All Levels</td>\n",
              "      <td>Web Development</td>\n",
              "      <td>2180.0</td>\n",
              "      <td>779.99</td>\n",
              "      <td>2020-07-09 17:19:53</td>\n",
              "      <td>358605</td>\n",
              "      <td>1700378.20</td>\n",
              "      <td>86433</td>\n",
              "      <td>4.148936</td>\n",
              "    </tr>\n",
              "    <tr>\n",
              "      <th>1916</th>\n",
              "      <td>0.100691</td>\n",
              "      <td>132570</td>\n",
              "      <td>Basic Piano Hymn Playing</td>\n",
              "      <td>https://www.udemy.com/basic-piano-hymn-playing/</td>\n",
              "      <td>20</td>\n",
              "      <td>1842</td>\n",
              "      <td>28</td>\n",
              "      <td>Beginner Level</td>\n",
              "      <td>Musical Instruments</td>\n",
              "      <td>1976.0</td>\n",
              "      <td>79.99</td>\n",
              "      <td>2020-07-09 14:59:33</td>\n",
              "      <td>36840</td>\n",
              "      <td>158060.24</td>\n",
              "      <td>51576</td>\n",
              "      <td>0.714286</td>\n",
              "    </tr>\n",
              "  </tbody>\n",
              "</table>\n",
              "</div>"
            ],
            "text/plain": [
              "      cum_old_subsc  course_id  ... hours_watched price_per_lecture\n",
              "1366       0.099939     424770  ...         60225          2.878788\n",
              "3639       0.100126     261148  ...         21984          1.666667\n",
              "2632       0.100314     945336  ...         56978          3.225806\n",
              "3559       0.100502     882128  ...         86433          4.148936\n",
              "1916       0.100691     132570  ...         51576          0.714286\n",
              "\n",
              "[5 rows x 16 columns]"
            ]
          },
          "metadata": {
            "tags": []
          },
          "execution_count": 20
        }
      ]
    },
    {
      "cell_type": "code",
      "metadata": {
        "id": "dLwftKX8Hyon",
        "colab_type": "code",
        "colab": {
          "base_uri": "https://localhost:8080/",
          "height": 567
        },
        "outputId": "0b2f2dd3-37f8-4f09-de28-71d675db9ed0"
      },
      "source": [
        "dfc.sort_values('new_subscribers',inplace=True)\n",
        "dfc['cum_new_subsc']=np.cumsum(dfc.new_subscribers)/new_subsTot\n",
        "dfc[1853:1858][['cum_new_subsc']+disp_col]"
      ],
      "execution_count": 21,
      "outputs": [
        {
          "output_type": "execute_result",
          "data": {
            "text/html": [
              "<div>\n",
              "<style scoped>\n",
              "    .dataframe tbody tr th:only-of-type {\n",
              "        vertical-align: middle;\n",
              "    }\n",
              "\n",
              "    .dataframe tbody tr th {\n",
              "        vertical-align: top;\n",
              "    }\n",
              "\n",
              "    .dataframe thead th {\n",
              "        text-align: right;\n",
              "    }\n",
              "</style>\n",
              "<table border=\"1\" class=\"dataframe\">\n",
              "  <thead>\n",
              "    <tr style=\"text-align: right;\">\n",
              "      <th></th>\n",
              "      <th>cum_new_subsc</th>\n",
              "      <th>course_id</th>\n",
              "      <th>title</th>\n",
              "      <th>url</th>\n",
              "      <th>old_price</th>\n",
              "      <th>old_subscribers</th>\n",
              "      <th>num_lectures</th>\n",
              "      <th>level</th>\n",
              "      <th>subject</th>\n",
              "      <th>new_subscribers</th>\n",
              "      <th>new_price</th>\n",
              "      <th>timestamp</th>\n",
              "      <th>old_revenue</th>\n",
              "      <th>new_revenue</th>\n",
              "      <th>hours_watched</th>\n",
              "      <th>price_per_lecture</th>\n",
              "    </tr>\n",
              "  </thead>\n",
              "  <tbody>\n",
              "    <tr>\n",
              "      <th>2279</th>\n",
              "      <td>0.099647</td>\n",
              "      <td>1244302</td>\n",
              "      <td>Guitar Strumming 101 - Have More Fun Playing S...</td>\n",
              "      <td>https://www.udemy.com/guitar-strumming-101-hav...</td>\n",
              "      <td>50</td>\n",
              "      <td>8</td>\n",
              "      <td>16</td>\n",
              "      <td>Beginner Level</td>\n",
              "      <td>Musical Instruments</td>\n",
              "      <td>5216.0</td>\n",
              "      <td>299.99</td>\n",
              "      <td>2020-07-09 15:33:13</td>\n",
              "      <td>400</td>\n",
              "      <td>1564747.84</td>\n",
              "      <td>128</td>\n",
              "      <td>3.125000</td>\n",
              "    </tr>\n",
              "    <tr>\n",
              "      <th>952</th>\n",
              "      <td>0.099859</td>\n",
              "      <td>793084</td>\n",
              "      <td>Succeed in Stocks Even if you Don't Know Where...</td>\n",
              "      <td>https://www.udemy.com/succeed-in-stocks-even-i...</td>\n",
              "      <td>0</td>\n",
              "      <td>2554</td>\n",
              "      <td>10</td>\n",
              "      <td>Beginner Level</td>\n",
              "      <td>Business Finance</td>\n",
              "      <td>5218.0</td>\n",
              "      <td>0.00</td>\n",
              "      <td>2020-07-09 14:07:03</td>\n",
              "      <td>0</td>\n",
              "      <td>0.00</td>\n",
              "      <td>25540</td>\n",
              "      <td>0.000000</td>\n",
              "    </tr>\n",
              "    <tr>\n",
              "      <th>346</th>\n",
              "      <td>0.100070</td>\n",
              "      <td>1034074</td>\n",
              "      <td>Introduction to Value Growth Investing</td>\n",
              "      <td>https://www.udemy.com/introduction-to-value-gr...</td>\n",
              "      <td>0</td>\n",
              "      <td>2768</td>\n",
              "      <td>10</td>\n",
              "      <td>All Levels</td>\n",
              "      <td>Business Finance</td>\n",
              "      <td>5225.0</td>\n",
              "      <td>0.00</td>\n",
              "      <td>2020-07-09 13:45:36</td>\n",
              "      <td>0</td>\n",
              "      <td>0.00</td>\n",
              "      <td>27680</td>\n",
              "      <td>0.000000</td>\n",
              "    </tr>\n",
              "    <tr>\n",
              "      <th>3124</th>\n",
              "      <td>0.100282</td>\n",
              "      <td>982860</td>\n",
              "      <td>Django + AngularJS for a Powerful Web Application</td>\n",
              "      <td>https://www.udemy.com/django-angularjs/</td>\n",
              "      <td>95</td>\n",
              "      <td>4463</td>\n",
              "      <td>36</td>\n",
              "      <td>Intermediate Level</td>\n",
              "      <td>Web Development</td>\n",
              "      <td>5232.0</td>\n",
              "      <td>379.99</td>\n",
              "      <td>2020-07-09 16:33:14</td>\n",
              "      <td>423985</td>\n",
              "      <td>1988107.68</td>\n",
              "      <td>160668</td>\n",
              "      <td>2.638889</td>\n",
              "    </tr>\n",
              "    <tr>\n",
              "      <th>2900</th>\n",
              "      <td>0.100494</td>\n",
              "      <td>896858</td>\n",
              "      <td>The Complete WordPress Development &amp; Customiza...</td>\n",
              "      <td>https://www.udemy.com/the-complete-wordpress-d...</td>\n",
              "      <td>100</td>\n",
              "      <td>1611</td>\n",
              "      <td>157</td>\n",
              "      <td>Expert Level</td>\n",
              "      <td>Web Development</td>\n",
              "      <td>5240.0</td>\n",
              "      <td>799.99</td>\n",
              "      <td>2020-07-09 16:25:14</td>\n",
              "      <td>161100</td>\n",
              "      <td>4191947.60</td>\n",
              "      <td>252927</td>\n",
              "      <td>0.636943</td>\n",
              "    </tr>\n",
              "  </tbody>\n",
              "</table>\n",
              "</div>"
            ],
            "text/plain": [
              "      cum_new_subsc  course_id  ... hours_watched price_per_lecture\n",
              "2279       0.099647    1244302  ...           128          3.125000\n",
              "952        0.099859     793084  ...         25540          0.000000\n",
              "346        0.100070    1034074  ...         27680          0.000000\n",
              "3124       0.100282     982860  ...        160668          2.638889\n",
              "2900       0.100494     896858  ...        252927          0.636943\n",
              "\n",
              "[5 rows x 16 columns]"
            ]
          },
          "metadata": {
            "tags": []
          },
          "execution_count": 21
        }
      ]
    },
    {
      "cell_type": "code",
      "metadata": {
        "id": "CXvJHCwDJPZA",
        "colab_type": "code",
        "colab": {}
      },
      "source": [
        "new_bestseller_thr = 90000\n",
        "old_bestseller_thr = 40000\n",
        "low_thr_cum_perc = 0.1\n",
        "def calc_cat(num,cum,best_thr,low_thr):\n",
        "   return np.where(num>=best_thr, 3, np.where(cum>=low_thr,2,1))\n",
        "dfc['new_cat'] = calc_cat(dfc['new_subscribers'], dfc['cum_new_subsc'], new_bestseller_thr, low_thr_cum_perc)\n",
        "dfc['old_cat'] = calc_cat(dfc['old_subscribers'], dfc['cum_old_subsc'], old_bestseller_thr, low_thr_cum_perc)"
      ],
      "execution_count": 22,
      "outputs": []
    },
    {
      "cell_type": "code",
      "metadata": {
        "id": "XtPRzgtUOM47",
        "colab_type": "code",
        "colab": {
          "base_uri": "https://localhost:8080/",
          "height": 567
        },
        "outputId": "bdf17327-806e-4587-f8c0-2b43f5305531"
      },
      "source": [
        "dfc[1853:1858][['cum_new_subsc','new_cat','old_cat']+disp_col]"
      ],
      "execution_count": 23,
      "outputs": [
        {
          "output_type": "execute_result",
          "data": {
            "text/html": [
              "<div>\n",
              "<style scoped>\n",
              "    .dataframe tbody tr th:only-of-type {\n",
              "        vertical-align: middle;\n",
              "    }\n",
              "\n",
              "    .dataframe tbody tr th {\n",
              "        vertical-align: top;\n",
              "    }\n",
              "\n",
              "    .dataframe thead th {\n",
              "        text-align: right;\n",
              "    }\n",
              "</style>\n",
              "<table border=\"1\" class=\"dataframe\">\n",
              "  <thead>\n",
              "    <tr style=\"text-align: right;\">\n",
              "      <th></th>\n",
              "      <th>cum_new_subsc</th>\n",
              "      <th>new_cat</th>\n",
              "      <th>old_cat</th>\n",
              "      <th>course_id</th>\n",
              "      <th>title</th>\n",
              "      <th>url</th>\n",
              "      <th>old_price</th>\n",
              "      <th>old_subscribers</th>\n",
              "      <th>num_lectures</th>\n",
              "      <th>level</th>\n",
              "      <th>subject</th>\n",
              "      <th>new_subscribers</th>\n",
              "      <th>new_price</th>\n",
              "      <th>timestamp</th>\n",
              "      <th>old_revenue</th>\n",
              "      <th>new_revenue</th>\n",
              "      <th>hours_watched</th>\n",
              "      <th>price_per_lecture</th>\n",
              "    </tr>\n",
              "  </thead>\n",
              "  <tbody>\n",
              "    <tr>\n",
              "      <th>2279</th>\n",
              "      <td>0.099647</td>\n",
              "      <td>1</td>\n",
              "      <td>1</td>\n",
              "      <td>1244302</td>\n",
              "      <td>Guitar Strumming 101 - Have More Fun Playing S...</td>\n",
              "      <td>https://www.udemy.com/guitar-strumming-101-hav...</td>\n",
              "      <td>50</td>\n",
              "      <td>8</td>\n",
              "      <td>16</td>\n",
              "      <td>Beginner Level</td>\n",
              "      <td>Musical Instruments</td>\n",
              "      <td>5216.0</td>\n",
              "      <td>299.99</td>\n",
              "      <td>2020-07-09 15:33:13</td>\n",
              "      <td>400</td>\n",
              "      <td>1564747.84</td>\n",
              "      <td>128</td>\n",
              "      <td>3.125000</td>\n",
              "    </tr>\n",
              "    <tr>\n",
              "      <th>952</th>\n",
              "      <td>0.099859</td>\n",
              "      <td>1</td>\n",
              "      <td>2</td>\n",
              "      <td>793084</td>\n",
              "      <td>Succeed in Stocks Even if you Don't Know Where...</td>\n",
              "      <td>https://www.udemy.com/succeed-in-stocks-even-i...</td>\n",
              "      <td>0</td>\n",
              "      <td>2554</td>\n",
              "      <td>10</td>\n",
              "      <td>Beginner Level</td>\n",
              "      <td>Business Finance</td>\n",
              "      <td>5218.0</td>\n",
              "      <td>0.00</td>\n",
              "      <td>2020-07-09 14:07:03</td>\n",
              "      <td>0</td>\n",
              "      <td>0.00</td>\n",
              "      <td>25540</td>\n",
              "      <td>0.000000</td>\n",
              "    </tr>\n",
              "    <tr>\n",
              "      <th>346</th>\n",
              "      <td>0.100070</td>\n",
              "      <td>2</td>\n",
              "      <td>2</td>\n",
              "      <td>1034074</td>\n",
              "      <td>Introduction to Value Growth Investing</td>\n",
              "      <td>https://www.udemy.com/introduction-to-value-gr...</td>\n",
              "      <td>0</td>\n",
              "      <td>2768</td>\n",
              "      <td>10</td>\n",
              "      <td>All Levels</td>\n",
              "      <td>Business Finance</td>\n",
              "      <td>5225.0</td>\n",
              "      <td>0.00</td>\n",
              "      <td>2020-07-09 13:45:36</td>\n",
              "      <td>0</td>\n",
              "      <td>0.00</td>\n",
              "      <td>27680</td>\n",
              "      <td>0.000000</td>\n",
              "    </tr>\n",
              "    <tr>\n",
              "      <th>3124</th>\n",
              "      <td>0.100282</td>\n",
              "      <td>2</td>\n",
              "      <td>2</td>\n",
              "      <td>982860</td>\n",
              "      <td>Django + AngularJS for a Powerful Web Application</td>\n",
              "      <td>https://www.udemy.com/django-angularjs/</td>\n",
              "      <td>95</td>\n",
              "      <td>4463</td>\n",
              "      <td>36</td>\n",
              "      <td>Intermediate Level</td>\n",
              "      <td>Web Development</td>\n",
              "      <td>5232.0</td>\n",
              "      <td>379.99</td>\n",
              "      <td>2020-07-09 16:33:14</td>\n",
              "      <td>423985</td>\n",
              "      <td>1988107.68</td>\n",
              "      <td>160668</td>\n",
              "      <td>2.638889</td>\n",
              "    </tr>\n",
              "    <tr>\n",
              "      <th>2900</th>\n",
              "      <td>0.100494</td>\n",
              "      <td>2</td>\n",
              "      <td>1</td>\n",
              "      <td>896858</td>\n",
              "      <td>The Complete WordPress Development &amp; Customiza...</td>\n",
              "      <td>https://www.udemy.com/the-complete-wordpress-d...</td>\n",
              "      <td>100</td>\n",
              "      <td>1611</td>\n",
              "      <td>157</td>\n",
              "      <td>Expert Level</td>\n",
              "      <td>Web Development</td>\n",
              "      <td>5240.0</td>\n",
              "      <td>799.99</td>\n",
              "      <td>2020-07-09 16:25:14</td>\n",
              "      <td>161100</td>\n",
              "      <td>4191947.60</td>\n",
              "      <td>252927</td>\n",
              "      <td>0.636943</td>\n",
              "    </tr>\n",
              "  </tbody>\n",
              "</table>\n",
              "</div>"
            ],
            "text/plain": [
              "      cum_new_subsc  new_cat  ...  hours_watched  price_per_lecture\n",
              "2279       0.099647        1  ...            128           3.125000\n",
              "952        0.099859        1  ...          25540           0.000000\n",
              "346        0.100070        2  ...          27680           0.000000\n",
              "3124       0.100282        2  ...         160668           2.638889\n",
              "2900       0.100494        2  ...         252927           0.636943\n",
              "\n",
              "[5 rows x 18 columns]"
            ]
          },
          "metadata": {
            "tags": []
          },
          "execution_count": 23
        }
      ]
    },
    {
      "cell_type": "code",
      "metadata": {
        "id": "mcFov1uRDtbq",
        "colab_type": "code",
        "colab": {}
      },
      "source": [
        "dfc.to_csv('UdemyB.csv')"
      ],
      "execution_count": 24,
      "outputs": []
    },
    {
      "cell_type": "code",
      "metadata": {
        "id": "dFcf2K4brFf_",
        "colab_type": "code",
        "colab": {
          "base_uri": "https://localhost:8080/",
          "height": 257
        },
        "outputId": "06ff005b-8f2f-4f16-d135-c0b8eb995609"
      },
      "source": [
        "freeCrossTab=pd.crosstab(dfc['subject'],[dfc.old_price==0, dfc.new_price==0],margins=True)\n",
        "freeCrossTab.to_csv('freeCrossTab.csv')\n",
        "freeCrossTab"
      ],
      "execution_count": 25,
      "outputs": [
        {
          "output_type": "execute_result",
          "data": {
            "text/html": [
              "<div>\n",
              "<style scoped>\n",
              "    .dataframe tbody tr th:only-of-type {\n",
              "        vertical-align: middle;\n",
              "    }\n",
              "\n",
              "    .dataframe tbody tr th {\n",
              "        vertical-align: top;\n",
              "    }\n",
              "\n",
              "    .dataframe thead tr th {\n",
              "        text-align: left;\n",
              "    }\n",
              "\n",
              "    .dataframe thead tr:last-of-type th {\n",
              "        text-align: right;\n",
              "    }\n",
              "</style>\n",
              "<table border=\"1\" class=\"dataframe\">\n",
              "  <thead>\n",
              "    <tr>\n",
              "      <th>old_price</th>\n",
              "      <th colspan=\"2\" halign=\"left\">False</th>\n",
              "      <th colspan=\"2\" halign=\"left\">True</th>\n",
              "      <th>All</th>\n",
              "    </tr>\n",
              "    <tr>\n",
              "      <th>new_price</th>\n",
              "      <th>False</th>\n",
              "      <th>True</th>\n",
              "      <th>False</th>\n",
              "      <th>True</th>\n",
              "      <th></th>\n",
              "    </tr>\n",
              "    <tr>\n",
              "      <th>subject</th>\n",
              "      <th></th>\n",
              "      <th></th>\n",
              "      <th></th>\n",
              "      <th></th>\n",
              "      <th></th>\n",
              "    </tr>\n",
              "  </thead>\n",
              "  <tbody>\n",
              "    <tr>\n",
              "      <th>Business Finance</th>\n",
              "      <td>641</td>\n",
              "      <td>9</td>\n",
              "      <td>19</td>\n",
              "      <td>39</td>\n",
              "      <td>708</td>\n",
              "    </tr>\n",
              "    <tr>\n",
              "      <th>Graphic Design</th>\n",
              "      <td>366</td>\n",
              "      <td>8</td>\n",
              "      <td>8</td>\n",
              "      <td>16</td>\n",
              "      <td>398</td>\n",
              "    </tr>\n",
              "    <tr>\n",
              "      <th>Musical Instruments</th>\n",
              "      <td>473</td>\n",
              "      <td>7</td>\n",
              "      <td>12</td>\n",
              "      <td>21</td>\n",
              "      <td>513</td>\n",
              "    </tr>\n",
              "    <tr>\n",
              "      <th>Web Development</th>\n",
              "      <td>815</td>\n",
              "      <td>54</td>\n",
              "      <td>18</td>\n",
              "      <td>86</td>\n",
              "      <td>973</td>\n",
              "    </tr>\n",
              "    <tr>\n",
              "      <th>All</th>\n",
              "      <td>2295</td>\n",
              "      <td>78</td>\n",
              "      <td>57</td>\n",
              "      <td>162</td>\n",
              "      <td>2592</td>\n",
              "    </tr>\n",
              "  </tbody>\n",
              "</table>\n",
              "</div>"
            ],
            "text/plain": [
              "old_price           False       True        All\n",
              "new_price           False True False True      \n",
              "subject                                        \n",
              "Business Finance      641    9    19   39   708\n",
              "Graphic Design        366    8     8   16   398\n",
              "Musical Instruments   473    7    12   21   513\n",
              "Web Development       815   54    18   86   973\n",
              "All                  2295   78    57  162  2592"
            ]
          },
          "metadata": {
            "tags": []
          },
          "execution_count": 25
        }
      ]
    },
    {
      "cell_type": "code",
      "metadata": {
        "id": "euQFVXQKQ2mm",
        "colab_type": "code",
        "colab": {
          "base_uri": "https://localhost:8080/",
          "height": 197
        },
        "outputId": "3f98360c-3780-41be-c397-dc3228308e25"
      },
      "source": [
        "catCrossTab=pd.crosstab(dfc['old_cat'], dfc['new_cat'],margins=True)\n",
        "catCrossTab.to_csv('catCrossTab.csv')\n",
        "catCrossTab"
      ],
      "execution_count": 26,
      "outputs": [
        {
          "output_type": "execute_result",
          "data": {
            "text/html": [
              "<div>\n",
              "<style scoped>\n",
              "    .dataframe tbody tr th:only-of-type {\n",
              "        vertical-align: middle;\n",
              "    }\n",
              "\n",
              "    .dataframe tbody tr th {\n",
              "        vertical-align: top;\n",
              "    }\n",
              "\n",
              "    .dataframe thead th {\n",
              "        text-align: right;\n",
              "    }\n",
              "</style>\n",
              "<table border=\"1\" class=\"dataframe\">\n",
              "  <thead>\n",
              "    <tr style=\"text-align: right;\">\n",
              "      <th>new_cat</th>\n",
              "      <th>1</th>\n",
              "      <th>2</th>\n",
              "      <th>3</th>\n",
              "      <th>All</th>\n",
              "    </tr>\n",
              "    <tr>\n",
              "      <th>old_cat</th>\n",
              "      <th></th>\n",
              "      <th></th>\n",
              "      <th></th>\n",
              "      <th></th>\n",
              "    </tr>\n",
              "  </thead>\n",
              "  <tbody>\n",
              "    <tr>\n",
              "      <th>1</th>\n",
              "      <td>1580</td>\n",
              "      <td>120</td>\n",
              "      <td>1</td>\n",
              "      <td>1701</td>\n",
              "    </tr>\n",
              "    <tr>\n",
              "      <th>2</th>\n",
              "      <td>275</td>\n",
              "      <td>563</td>\n",
              "      <td>17</td>\n",
              "      <td>855</td>\n",
              "    </tr>\n",
              "    <tr>\n",
              "      <th>3</th>\n",
              "      <td>0</td>\n",
              "      <td>10</td>\n",
              "      <td>26</td>\n",
              "      <td>36</td>\n",
              "    </tr>\n",
              "    <tr>\n",
              "      <th>All</th>\n",
              "      <td>1855</td>\n",
              "      <td>693</td>\n",
              "      <td>44</td>\n",
              "      <td>2592</td>\n",
              "    </tr>\n",
              "  </tbody>\n",
              "</table>\n",
              "</div>"
            ],
            "text/plain": [
              "new_cat     1    2   3   All\n",
              "old_cat                     \n",
              "1        1580  120   1  1701\n",
              "2         275  563  17   855\n",
              "3           0   10  26    36\n",
              "All      1855  693  44  2592"
            ]
          },
          "metadata": {
            "tags": []
          },
          "execution_count": 26
        }
      ]
    },
    {
      "cell_type": "code",
      "metadata": {
        "id": "vPQM0jBFIWZ7",
        "colab_type": "code",
        "colab": {
          "base_uri": "https://localhost:8080/",
          "height": 257
        },
        "outputId": "6a66bdd4-0fdf-4e83-b14e-5c71fcce52e9"
      },
      "source": [
        "catCrossTab0 = pd.crosstab(dfc['subject'],[dfc['old_cat'],dfc['new_cat']],margins=True)\n",
        "catCrossTab0.to_csv('catCrossTab0.csv')\n",
        "catCrossTab0"
      ],
      "execution_count": 27,
      "outputs": [
        {
          "output_type": "execute_result",
          "data": {
            "text/html": [
              "<div>\n",
              "<style scoped>\n",
              "    .dataframe tbody tr th:only-of-type {\n",
              "        vertical-align: middle;\n",
              "    }\n",
              "\n",
              "    .dataframe tbody tr th {\n",
              "        vertical-align: top;\n",
              "    }\n",
              "\n",
              "    .dataframe thead tr th {\n",
              "        text-align: left;\n",
              "    }\n",
              "\n",
              "    .dataframe thead tr:last-of-type th {\n",
              "        text-align: right;\n",
              "    }\n",
              "</style>\n",
              "<table border=\"1\" class=\"dataframe\">\n",
              "  <thead>\n",
              "    <tr>\n",
              "      <th>old_cat</th>\n",
              "      <th colspan=\"3\" halign=\"left\">1</th>\n",
              "      <th colspan=\"3\" halign=\"left\">2</th>\n",
              "      <th colspan=\"2\" halign=\"left\">3</th>\n",
              "      <th>All</th>\n",
              "    </tr>\n",
              "    <tr>\n",
              "      <th>new_cat</th>\n",
              "      <th>1</th>\n",
              "      <th>2</th>\n",
              "      <th>3</th>\n",
              "      <th>1</th>\n",
              "      <th>2</th>\n",
              "      <th>3</th>\n",
              "      <th>2</th>\n",
              "      <th>3</th>\n",
              "      <th></th>\n",
              "    </tr>\n",
              "    <tr>\n",
              "      <th>subject</th>\n",
              "      <th></th>\n",
              "      <th></th>\n",
              "      <th></th>\n",
              "      <th></th>\n",
              "      <th></th>\n",
              "      <th></th>\n",
              "      <th></th>\n",
              "      <th></th>\n",
              "      <th></th>\n",
              "    </tr>\n",
              "  </thead>\n",
              "  <tbody>\n",
              "    <tr>\n",
              "      <th>Business Finance</th>\n",
              "      <td>515</td>\n",
              "      <td>33</td>\n",
              "      <td>0</td>\n",
              "      <td>61</td>\n",
              "      <td>92</td>\n",
              "      <td>4</td>\n",
              "      <td>1</td>\n",
              "      <td>2</td>\n",
              "      <td>708</td>\n",
              "    </tr>\n",
              "    <tr>\n",
              "      <th>Graphic Design</th>\n",
              "      <td>278</td>\n",
              "      <td>22</td>\n",
              "      <td>1</td>\n",
              "      <td>39</td>\n",
              "      <td>53</td>\n",
              "      <td>2</td>\n",
              "      <td>0</td>\n",
              "      <td>3</td>\n",
              "      <td>398</td>\n",
              "    </tr>\n",
              "    <tr>\n",
              "      <th>Musical Instruments</th>\n",
              "      <td>439</td>\n",
              "      <td>14</td>\n",
              "      <td>0</td>\n",
              "      <td>23</td>\n",
              "      <td>34</td>\n",
              "      <td>1</td>\n",
              "      <td>0</td>\n",
              "      <td>2</td>\n",
              "      <td>513</td>\n",
              "    </tr>\n",
              "    <tr>\n",
              "      <th>Web Development</th>\n",
              "      <td>348</td>\n",
              "      <td>51</td>\n",
              "      <td>0</td>\n",
              "      <td>152</td>\n",
              "      <td>384</td>\n",
              "      <td>10</td>\n",
              "      <td>9</td>\n",
              "      <td>19</td>\n",
              "      <td>973</td>\n",
              "    </tr>\n",
              "    <tr>\n",
              "      <th>All</th>\n",
              "      <td>1580</td>\n",
              "      <td>120</td>\n",
              "      <td>1</td>\n",
              "      <td>275</td>\n",
              "      <td>563</td>\n",
              "      <td>17</td>\n",
              "      <td>10</td>\n",
              "      <td>26</td>\n",
              "      <td>2592</td>\n",
              "    </tr>\n",
              "  </tbody>\n",
              "</table>\n",
              "</div>"
            ],
            "text/plain": [
              "old_cat                 1            2            3       All\n",
              "new_cat                 1    2  3    1    2   3   2   3      \n",
              "subject                                                      \n",
              "Business Finance      515   33  0   61   92   4   1   2   708\n",
              "Graphic Design        278   22  1   39   53   2   0   3   398\n",
              "Musical Instruments   439   14  0   23   34   1   0   2   513\n",
              "Web Development       348   51  0  152  384  10   9  19   973\n",
              "All                  1580  120  1  275  563  17  10  26  2592"
            ]
          },
          "metadata": {
            "tags": []
          },
          "execution_count": 27
        }
      ]
    },
    {
      "cell_type": "code",
      "metadata": {
        "id": "VxlQ_eVSi9SZ",
        "colab_type": "code",
        "colab": {
          "base_uri": "https://localhost:8080/",
          "height": 227
        },
        "outputId": "8b142541-0019-48dc-ddb0-d214ab02a1fe"
      },
      "source": [
        "catCrossTab1 = pd.crosstab(dfc['old_cat'],[dfc['subject'],dfc['new_cat']],margins=True)\n",
        "catCrossTab1.to_csv('catCrossTab1.csv')\n",
        "catCrossTab1"
      ],
      "execution_count": 28,
      "outputs": [
        {
          "output_type": "execute_result",
          "data": {
            "text/html": [
              "<div>\n",
              "<style scoped>\n",
              "    .dataframe tbody tr th:only-of-type {\n",
              "        vertical-align: middle;\n",
              "    }\n",
              "\n",
              "    .dataframe tbody tr th {\n",
              "        vertical-align: top;\n",
              "    }\n",
              "\n",
              "    .dataframe thead tr th {\n",
              "        text-align: left;\n",
              "    }\n",
              "\n",
              "    .dataframe thead tr:last-of-type th {\n",
              "        text-align: right;\n",
              "    }\n",
              "</style>\n",
              "<table border=\"1\" class=\"dataframe\">\n",
              "  <thead>\n",
              "    <tr>\n",
              "      <th>subject</th>\n",
              "      <th colspan=\"3\" halign=\"left\">Business Finance</th>\n",
              "      <th colspan=\"3\" halign=\"left\">Graphic Design</th>\n",
              "      <th colspan=\"3\" halign=\"left\">Musical Instruments</th>\n",
              "      <th colspan=\"3\" halign=\"left\">Web Development</th>\n",
              "      <th>All</th>\n",
              "    </tr>\n",
              "    <tr>\n",
              "      <th>new_cat</th>\n",
              "      <th>1</th>\n",
              "      <th>2</th>\n",
              "      <th>3</th>\n",
              "      <th>1</th>\n",
              "      <th>2</th>\n",
              "      <th>3</th>\n",
              "      <th>1</th>\n",
              "      <th>2</th>\n",
              "      <th>3</th>\n",
              "      <th>1</th>\n",
              "      <th>2</th>\n",
              "      <th>3</th>\n",
              "      <th></th>\n",
              "    </tr>\n",
              "    <tr>\n",
              "      <th>old_cat</th>\n",
              "      <th></th>\n",
              "      <th></th>\n",
              "      <th></th>\n",
              "      <th></th>\n",
              "      <th></th>\n",
              "      <th></th>\n",
              "      <th></th>\n",
              "      <th></th>\n",
              "      <th></th>\n",
              "      <th></th>\n",
              "      <th></th>\n",
              "      <th></th>\n",
              "      <th></th>\n",
              "    </tr>\n",
              "  </thead>\n",
              "  <tbody>\n",
              "    <tr>\n",
              "      <th>1</th>\n",
              "      <td>515</td>\n",
              "      <td>33</td>\n",
              "      <td>0</td>\n",
              "      <td>278</td>\n",
              "      <td>22</td>\n",
              "      <td>1</td>\n",
              "      <td>439</td>\n",
              "      <td>14</td>\n",
              "      <td>0</td>\n",
              "      <td>348</td>\n",
              "      <td>51</td>\n",
              "      <td>0</td>\n",
              "      <td>1701</td>\n",
              "    </tr>\n",
              "    <tr>\n",
              "      <th>2</th>\n",
              "      <td>61</td>\n",
              "      <td>92</td>\n",
              "      <td>4</td>\n",
              "      <td>39</td>\n",
              "      <td>53</td>\n",
              "      <td>2</td>\n",
              "      <td>23</td>\n",
              "      <td>34</td>\n",
              "      <td>1</td>\n",
              "      <td>152</td>\n",
              "      <td>384</td>\n",
              "      <td>10</td>\n",
              "      <td>855</td>\n",
              "    </tr>\n",
              "    <tr>\n",
              "      <th>3</th>\n",
              "      <td>0</td>\n",
              "      <td>1</td>\n",
              "      <td>2</td>\n",
              "      <td>0</td>\n",
              "      <td>0</td>\n",
              "      <td>3</td>\n",
              "      <td>0</td>\n",
              "      <td>0</td>\n",
              "      <td>2</td>\n",
              "      <td>0</td>\n",
              "      <td>9</td>\n",
              "      <td>19</td>\n",
              "      <td>36</td>\n",
              "    </tr>\n",
              "    <tr>\n",
              "      <th>All</th>\n",
              "      <td>576</td>\n",
              "      <td>126</td>\n",
              "      <td>6</td>\n",
              "      <td>317</td>\n",
              "      <td>75</td>\n",
              "      <td>6</td>\n",
              "      <td>462</td>\n",
              "      <td>48</td>\n",
              "      <td>3</td>\n",
              "      <td>500</td>\n",
              "      <td>444</td>\n",
              "      <td>29</td>\n",
              "      <td>2592</td>\n",
              "    </tr>\n",
              "  </tbody>\n",
              "</table>\n",
              "</div>"
            ],
            "text/plain": [
              "subject Business Finance         Graphic Design  ... Web Development            All\n",
              "new_cat                1    2  3              1  ...               1    2   3      \n",
              "old_cat                                          ...                               \n",
              "1                    515   33  0            278  ...             348   51   0  1701\n",
              "2                     61   92  4             39  ...             152  384  10   855\n",
              "3                      0    1  2              0  ...               0    9  19    36\n",
              "All                  576  126  6            317  ...             500  444  29  2592\n",
              "\n",
              "[4 rows x 13 columns]"
            ]
          },
          "metadata": {
            "tags": []
          },
          "execution_count": 28
        }
      ]
    },
    {
      "cell_type": "code",
      "metadata": {
        "id": "Jy2dNNtPNLHL",
        "colab_type": "code",
        "colab": {
          "base_uri": "https://localhost:8080/",
          "height": 467
        },
        "outputId": "adc83e76-d6c7-40bb-c410-6945543a001f"
      },
      "source": [
        "catCrossTab2 = pd.crosstab([dfc['subject'],dfc['old_cat']],dfc['new_cat'],margins=True)\n",
        "catCrossTab2.to_csv('catCrossTab2.csv')\n",
        "catCrossTab2"
      ],
      "execution_count": 29,
      "outputs": [
        {
          "output_type": "execute_result",
          "data": {
            "text/html": [
              "<div>\n",
              "<style scoped>\n",
              "    .dataframe tbody tr th:only-of-type {\n",
              "        vertical-align: middle;\n",
              "    }\n",
              "\n",
              "    .dataframe tbody tr th {\n",
              "        vertical-align: top;\n",
              "    }\n",
              "\n",
              "    .dataframe thead th {\n",
              "        text-align: right;\n",
              "    }\n",
              "</style>\n",
              "<table border=\"1\" class=\"dataframe\">\n",
              "  <thead>\n",
              "    <tr style=\"text-align: right;\">\n",
              "      <th></th>\n",
              "      <th>new_cat</th>\n",
              "      <th>1</th>\n",
              "      <th>2</th>\n",
              "      <th>3</th>\n",
              "      <th>All</th>\n",
              "    </tr>\n",
              "    <tr>\n",
              "      <th>subject</th>\n",
              "      <th>old_cat</th>\n",
              "      <th></th>\n",
              "      <th></th>\n",
              "      <th></th>\n",
              "      <th></th>\n",
              "    </tr>\n",
              "  </thead>\n",
              "  <tbody>\n",
              "    <tr>\n",
              "      <th rowspan=\"3\" valign=\"top\">Business Finance</th>\n",
              "      <th>1</th>\n",
              "      <td>515</td>\n",
              "      <td>33</td>\n",
              "      <td>0</td>\n",
              "      <td>548</td>\n",
              "    </tr>\n",
              "    <tr>\n",
              "      <th>2</th>\n",
              "      <td>61</td>\n",
              "      <td>92</td>\n",
              "      <td>4</td>\n",
              "      <td>157</td>\n",
              "    </tr>\n",
              "    <tr>\n",
              "      <th>3</th>\n",
              "      <td>0</td>\n",
              "      <td>1</td>\n",
              "      <td>2</td>\n",
              "      <td>3</td>\n",
              "    </tr>\n",
              "    <tr>\n",
              "      <th rowspan=\"3\" valign=\"top\">Graphic Design</th>\n",
              "      <th>1</th>\n",
              "      <td>278</td>\n",
              "      <td>22</td>\n",
              "      <td>1</td>\n",
              "      <td>301</td>\n",
              "    </tr>\n",
              "    <tr>\n",
              "      <th>2</th>\n",
              "      <td>39</td>\n",
              "      <td>53</td>\n",
              "      <td>2</td>\n",
              "      <td>94</td>\n",
              "    </tr>\n",
              "    <tr>\n",
              "      <th>3</th>\n",
              "      <td>0</td>\n",
              "      <td>0</td>\n",
              "      <td>3</td>\n",
              "      <td>3</td>\n",
              "    </tr>\n",
              "    <tr>\n",
              "      <th rowspan=\"3\" valign=\"top\">Musical Instruments</th>\n",
              "      <th>1</th>\n",
              "      <td>439</td>\n",
              "      <td>14</td>\n",
              "      <td>0</td>\n",
              "      <td>453</td>\n",
              "    </tr>\n",
              "    <tr>\n",
              "      <th>2</th>\n",
              "      <td>23</td>\n",
              "      <td>34</td>\n",
              "      <td>1</td>\n",
              "      <td>58</td>\n",
              "    </tr>\n",
              "    <tr>\n",
              "      <th>3</th>\n",
              "      <td>0</td>\n",
              "      <td>0</td>\n",
              "      <td>2</td>\n",
              "      <td>2</td>\n",
              "    </tr>\n",
              "    <tr>\n",
              "      <th rowspan=\"3\" valign=\"top\">Web Development</th>\n",
              "      <th>1</th>\n",
              "      <td>348</td>\n",
              "      <td>51</td>\n",
              "      <td>0</td>\n",
              "      <td>399</td>\n",
              "    </tr>\n",
              "    <tr>\n",
              "      <th>2</th>\n",
              "      <td>152</td>\n",
              "      <td>384</td>\n",
              "      <td>10</td>\n",
              "      <td>546</td>\n",
              "    </tr>\n",
              "    <tr>\n",
              "      <th>3</th>\n",
              "      <td>0</td>\n",
              "      <td>9</td>\n",
              "      <td>19</td>\n",
              "      <td>28</td>\n",
              "    </tr>\n",
              "    <tr>\n",
              "      <th>All</th>\n",
              "      <th></th>\n",
              "      <td>1855</td>\n",
              "      <td>693</td>\n",
              "      <td>44</td>\n",
              "      <td>2592</td>\n",
              "    </tr>\n",
              "  </tbody>\n",
              "</table>\n",
              "</div>"
            ],
            "text/plain": [
              "new_cat                         1    2   3   All\n",
              "subject             old_cat                     \n",
              "Business Finance    1         515   33   0   548\n",
              "                    2          61   92   4   157\n",
              "                    3           0    1   2     3\n",
              "Graphic Design      1         278   22   1   301\n",
              "                    2          39   53   2    94\n",
              "                    3           0    0   3     3\n",
              "Musical Instruments 1         439   14   0   453\n",
              "                    2          23   34   1    58\n",
              "                    3           0    0   2     2\n",
              "Web Development     1         348   51   0   399\n",
              "                    2         152  384  10   546\n",
              "                    3           0    9  19    28\n",
              "All                          1855  693  44  2592"
            ]
          },
          "metadata": {
            "tags": []
          },
          "execution_count": 29
        }
      ]
    },
    {
      "cell_type": "code",
      "metadata": {
        "id": "kcGdcKUXDVFP",
        "colab_type": "code",
        "colab": {
          "base_uri": "https://localhost:8080/",
          "height": 227
        },
        "outputId": "3f399393-dabb-4218-ad09-8f25f015249e"
      },
      "source": [
        "subjCnt = pd.pivot_table(dfc,index='subject',values=['old_subscribers','new_subscribers'],aggfunc=np.sum)\n",
        "subjCnt['courses']=pd.pivot_table(dfc,index='subject',values='course_id',aggfunc=len)\n",
        "subjCnt['old_low']=pd.pivot_table(dfc[dfc.old_cat==1],index='subject',values='course_id',aggfunc=len)\n",
        "subjCnt['new_low']=pd.pivot_table(dfc[dfc.new_cat==1],index='subject',values='course_id',aggfunc=len)\n",
        "subjCnt.loc['total'] = subjCnt.sum()\n",
        "subjCnt['old_low_perc']=subjCnt.old_low/subjCnt.courses\n",
        "subjCnt['new_low_perc']=subjCnt.new_low/subjCnt.courses\n",
        "subjCnt"
      ],
      "execution_count": 30,
      "outputs": [
        {
          "output_type": "execute_result",
          "data": {
            "text/html": [
              "<div>\n",
              "<style scoped>\n",
              "    .dataframe tbody tr th:only-of-type {\n",
              "        vertical-align: middle;\n",
              "    }\n",
              "\n",
              "    .dataframe tbody tr th {\n",
              "        vertical-align: top;\n",
              "    }\n",
              "\n",
              "    .dataframe thead th {\n",
              "        text-align: right;\n",
              "    }\n",
              "</style>\n",
              "<table border=\"1\" class=\"dataframe\">\n",
              "  <thead>\n",
              "    <tr style=\"text-align: right;\">\n",
              "      <th></th>\n",
              "      <th>new_subscribers</th>\n",
              "      <th>old_subscribers</th>\n",
              "      <th>courses</th>\n",
              "      <th>old_low</th>\n",
              "      <th>new_low</th>\n",
              "      <th>old_low_perc</th>\n",
              "      <th>new_low_perc</th>\n",
              "    </tr>\n",
              "    <tr>\n",
              "      <th>subject</th>\n",
              "      <th></th>\n",
              "      <th></th>\n",
              "      <th></th>\n",
              "      <th></th>\n",
              "      <th></th>\n",
              "      <th></th>\n",
              "      <th></th>\n",
              "    </tr>\n",
              "  </thead>\n",
              "  <tbody>\n",
              "    <tr>\n",
              "      <th>Business Finance</th>\n",
              "      <td>3756067.0</td>\n",
              "      <td>1250056.0</td>\n",
              "      <td>708.0</td>\n",
              "      <td>548.0</td>\n",
              "      <td>576.0</td>\n",
              "      <td>0.774011</td>\n",
              "      <td>0.813559</td>\n",
              "    </tr>\n",
              "    <tr>\n",
              "      <th>Graphic Design</th>\n",
              "      <td>2796875.0</td>\n",
              "      <td>902458.0</td>\n",
              "      <td>398.0</td>\n",
              "      <td>301.0</td>\n",
              "      <td>317.0</td>\n",
              "      <td>0.756281</td>\n",
              "      <td>0.796482</td>\n",
              "    </tr>\n",
              "    <tr>\n",
              "      <th>Musical Instruments</th>\n",
              "      <td>1616316.0</td>\n",
              "      <td>589226.0</td>\n",
              "      <td>513.0</td>\n",
              "      <td>453.0</td>\n",
              "      <td>462.0</td>\n",
              "      <td>0.883041</td>\n",
              "      <td>0.900585</td>\n",
              "    </tr>\n",
              "    <tr>\n",
              "      <th>Web Development</th>\n",
              "      <td>16533000.0</td>\n",
              "      <td>7036064.0</td>\n",
              "      <td>973.0</td>\n",
              "      <td>399.0</td>\n",
              "      <td>500.0</td>\n",
              "      <td>0.410072</td>\n",
              "      <td>0.513875</td>\n",
              "    </tr>\n",
              "    <tr>\n",
              "      <th>total</th>\n",
              "      <td>24702258.0</td>\n",
              "      <td>9777804.0</td>\n",
              "      <td>2592.0</td>\n",
              "      <td>1701.0</td>\n",
              "      <td>1855.0</td>\n",
              "      <td>0.656250</td>\n",
              "      <td>0.715664</td>\n",
              "    </tr>\n",
              "  </tbody>\n",
              "</table>\n",
              "</div>"
            ],
            "text/plain": [
              "                     new_subscribers  ...  new_low_perc\n",
              "subject                               ...              \n",
              "Business Finance           3756067.0  ...      0.813559\n",
              "Graphic Design             2796875.0  ...      0.796482\n",
              "Musical Instruments        1616316.0  ...      0.900585\n",
              "Web Development           16533000.0  ...      0.513875\n",
              "total                     24702258.0  ...      0.715664\n",
              "\n",
              "[5 rows x 7 columns]"
            ]
          },
          "metadata": {
            "tags": []
          },
          "execution_count": 30
        }
      ]
    },
    {
      "cell_type": "code",
      "metadata": {
        "id": "V0RJCM5FNnvO",
        "colab_type": "code",
        "colab": {}
      },
      "source": [
        "subjCnt.to_csv('subjCnt.csv')"
      ],
      "execution_count": 31,
      "outputs": []
    },
    {
      "cell_type": "code",
      "metadata": {
        "id": "lf5XDAqtD3ns",
        "colab_type": "code",
        "colab": {
          "base_uri": "https://localhost:8080/",
          "height": 227
        },
        "outputId": "39e5c186-43ff-43c1-b58f-60c9501878b6"
      },
      "source": [
        "subjPerc = subjCnt/subjCnt.values[-1]\n",
        "subjPerc"
      ],
      "execution_count": 32,
      "outputs": [
        {
          "output_type": "execute_result",
          "data": {
            "text/html": [
              "<div>\n",
              "<style scoped>\n",
              "    .dataframe tbody tr th:only-of-type {\n",
              "        vertical-align: middle;\n",
              "    }\n",
              "\n",
              "    .dataframe tbody tr th {\n",
              "        vertical-align: top;\n",
              "    }\n",
              "\n",
              "    .dataframe thead th {\n",
              "        text-align: right;\n",
              "    }\n",
              "</style>\n",
              "<table border=\"1\" class=\"dataframe\">\n",
              "  <thead>\n",
              "    <tr style=\"text-align: right;\">\n",
              "      <th></th>\n",
              "      <th>new_subscribers</th>\n",
              "      <th>old_subscribers</th>\n",
              "      <th>courses</th>\n",
              "      <th>old_low</th>\n",
              "      <th>new_low</th>\n",
              "      <th>old_low_perc</th>\n",
              "      <th>new_low_perc</th>\n",
              "    </tr>\n",
              "    <tr>\n",
              "      <th>subject</th>\n",
              "      <th></th>\n",
              "      <th></th>\n",
              "      <th></th>\n",
              "      <th></th>\n",
              "      <th></th>\n",
              "      <th></th>\n",
              "      <th></th>\n",
              "    </tr>\n",
              "  </thead>\n",
              "  <tbody>\n",
              "    <tr>\n",
              "      <th>Business Finance</th>\n",
              "      <td>0.152054</td>\n",
              "      <td>0.127846</td>\n",
              "      <td>0.273148</td>\n",
              "      <td>0.322163</td>\n",
              "      <td>0.310512</td>\n",
              "      <td>1.179446</td>\n",
              "      <td>1.136790</td>\n",
              "    </tr>\n",
              "    <tr>\n",
              "      <th>Graphic Design</th>\n",
              "      <td>0.113223</td>\n",
              "      <td>0.092297</td>\n",
              "      <td>0.153549</td>\n",
              "      <td>0.176955</td>\n",
              "      <td>0.170889</td>\n",
              "      <td>1.152429</td>\n",
              "      <td>1.112929</td>\n",
              "    </tr>\n",
              "    <tr>\n",
              "      <th>Musical Instruments</th>\n",
              "      <td>0.065432</td>\n",
              "      <td>0.060262</td>\n",
              "      <td>0.197917</td>\n",
              "      <td>0.266314</td>\n",
              "      <td>0.249057</td>\n",
              "      <td>1.345586</td>\n",
              "      <td>1.258391</td>\n",
              "    </tr>\n",
              "    <tr>\n",
              "      <th>Web Development</th>\n",
              "      <td>0.669291</td>\n",
              "      <td>0.719596</td>\n",
              "      <td>0.375386</td>\n",
              "      <td>0.234568</td>\n",
              "      <td>0.269542</td>\n",
              "      <td>0.624872</td>\n",
              "      <td>0.718039</td>\n",
              "    </tr>\n",
              "    <tr>\n",
              "      <th>total</th>\n",
              "      <td>1.000000</td>\n",
              "      <td>1.000000</td>\n",
              "      <td>1.000000</td>\n",
              "      <td>1.000000</td>\n",
              "      <td>1.000000</td>\n",
              "      <td>1.000000</td>\n",
              "      <td>1.000000</td>\n",
              "    </tr>\n",
              "  </tbody>\n",
              "</table>\n",
              "</div>"
            ],
            "text/plain": [
              "                     new_subscribers  ...  new_low_perc\n",
              "subject                               ...              \n",
              "Business Finance            0.152054  ...      1.136790\n",
              "Graphic Design              0.113223  ...      1.112929\n",
              "Musical Instruments         0.065432  ...      1.258391\n",
              "Web Development             0.669291  ...      0.718039\n",
              "total                       1.000000  ...      1.000000\n",
              "\n",
              "[5 rows x 7 columns]"
            ]
          },
          "metadata": {
            "tags": []
          },
          "execution_count": 32
        }
      ]
    },
    {
      "cell_type": "code",
      "metadata": {
        "id": "o3gljFX5v9kS",
        "colab_type": "code",
        "colab": {
          "base_uri": "https://localhost:8080/",
          "height": 227
        },
        "outputId": "9f086e6f-01ef-4133-af7a-03bd4cc60725"
      },
      "source": [
        "SubjPiv = pd.pivot_table(dfc,index='subject',values=['old_subscribers','old_perc_subs','new_subscribers','new_perc_subs'],aggfunc=np.sum)\n",
        "SubjPiv['count_of_courses']=pd.pivot_table(dfc,index='subject',values='course_id',aggfunc=len)\n",
        "SubjPiv['count_of_old_low']=pd.pivot_table(dfc[dfc.old_cat==1],index='subject',values='course_id',aggfunc=len)\n",
        "SubjPiv['count_of_new_low']=pd.pivot_table(dfc[dfc.new_cat==1],index='subject',values='course_id',aggfunc=len)\n",
        "SubjPiv['old_perc_subs_low']=pd.pivot_table(dfc[dfc.old_cat==1],index='subject',values='old_perc_subs',aggfunc=np.sum)\n",
        "SubjPiv['new_perc_subs_low']=pd.pivot_table(dfc[dfc.new_cat==1],index='subject',values='new_perc_subs',aggfunc=np.sum)\n",
        "SubjPiv.loc['total'] = SubjPiv.sum()\n",
        "SubjPiv[['count_of_courses', \n",
        "         'old_subscribers',\n",
        "         'old_perc_subs', \n",
        "         'new_subscribers', \n",
        "         'new_perc_subs', \n",
        "         'count_of_old_low', \n",
        "         'old_perc_subs_low',\n",
        "         'count_of_new_low',\n",
        "         'new_perc_subs_low']]"
      ],
      "execution_count": 33,
      "outputs": [
        {
          "output_type": "execute_result",
          "data": {
            "text/html": [
              "<div>\n",
              "<style scoped>\n",
              "    .dataframe tbody tr th:only-of-type {\n",
              "        vertical-align: middle;\n",
              "    }\n",
              "\n",
              "    .dataframe tbody tr th {\n",
              "        vertical-align: top;\n",
              "    }\n",
              "\n",
              "    .dataframe thead th {\n",
              "        text-align: right;\n",
              "    }\n",
              "</style>\n",
              "<table border=\"1\" class=\"dataframe\">\n",
              "  <thead>\n",
              "    <tr style=\"text-align: right;\">\n",
              "      <th></th>\n",
              "      <th>count_of_courses</th>\n",
              "      <th>old_subscribers</th>\n",
              "      <th>old_perc_subs</th>\n",
              "      <th>new_subscribers</th>\n",
              "      <th>new_perc_subs</th>\n",
              "      <th>count_of_old_low</th>\n",
              "      <th>old_perc_subs_low</th>\n",
              "      <th>count_of_new_low</th>\n",
              "      <th>new_perc_subs_low</th>\n",
              "    </tr>\n",
              "    <tr>\n",
              "      <th>subject</th>\n",
              "      <th></th>\n",
              "      <th></th>\n",
              "      <th></th>\n",
              "      <th></th>\n",
              "      <th></th>\n",
              "      <th></th>\n",
              "      <th></th>\n",
              "      <th></th>\n",
              "      <th></th>\n",
              "    </tr>\n",
              "  </thead>\n",
              "  <tbody>\n",
              "    <tr>\n",
              "      <th>Business Finance</th>\n",
              "      <td>708.0</td>\n",
              "      <td>1250056.0</td>\n",
              "      <td>0.127846</td>\n",
              "      <td>3756067.0</td>\n",
              "      <td>0.152054</td>\n",
              "      <td>548.0</td>\n",
              "      <td>0.027691</td>\n",
              "      <td>576.0</td>\n",
              "      <td>0.028395</td>\n",
              "    </tr>\n",
              "    <tr>\n",
              "      <th>Graphic Design</th>\n",
              "      <td>398.0</td>\n",
              "      <td>902458.0</td>\n",
              "      <td>0.092297</td>\n",
              "      <td>2796875.0</td>\n",
              "      <td>0.113223</td>\n",
              "      <td>301.0</td>\n",
              "      <td>0.017315</td>\n",
              "      <td>317.0</td>\n",
              "      <td>0.014349</td>\n",
              "    </tr>\n",
              "    <tr>\n",
              "      <th>Musical Instruments</th>\n",
              "      <td>513.0</td>\n",
              "      <td>589226.0</td>\n",
              "      <td>0.060262</td>\n",
              "      <td>1616316.0</td>\n",
              "      <td>0.065432</td>\n",
              "      <td>453.0</td>\n",
              "      <td>0.016256</td>\n",
              "      <td>462.0</td>\n",
              "      <td>0.014897</td>\n",
              "    </tr>\n",
              "    <tr>\n",
              "      <th>Web Development</th>\n",
              "      <td>973.0</td>\n",
              "      <td>7036064.0</td>\n",
              "      <td>0.719596</td>\n",
              "      <td>16533000.0</td>\n",
              "      <td>0.669291</td>\n",
              "      <td>399.0</td>\n",
              "      <td>0.038677</td>\n",
              "      <td>500.0</td>\n",
              "      <td>0.042217</td>\n",
              "    </tr>\n",
              "    <tr>\n",
              "      <th>total</th>\n",
              "      <td>2592.0</td>\n",
              "      <td>9777804.0</td>\n",
              "      <td>1.000000</td>\n",
              "      <td>24702258.0</td>\n",
              "      <td>1.000000</td>\n",
              "      <td>1701.0</td>\n",
              "      <td>0.099939</td>\n",
              "      <td>1855.0</td>\n",
              "      <td>0.099859</td>\n",
              "    </tr>\n",
              "  </tbody>\n",
              "</table>\n",
              "</div>"
            ],
            "text/plain": [
              "                     count_of_courses  ...  new_perc_subs_low\n",
              "subject                                ...                   \n",
              "Business Finance                708.0  ...           0.028395\n",
              "Graphic Design                  398.0  ...           0.014349\n",
              "Musical Instruments             513.0  ...           0.014897\n",
              "Web Development                 973.0  ...           0.042217\n",
              "total                          2592.0  ...           0.099859\n",
              "\n",
              "[5 rows x 9 columns]"
            ]
          },
          "metadata": {
            "tags": []
          },
          "execution_count": 33
        }
      ]
    },
    {
      "cell_type": "code",
      "metadata": {
        "id": "EUFiVfEzZSJs",
        "colab_type": "code",
        "colab": {
          "base_uri": "https://localhost:8080/",
          "height": 230
        },
        "outputId": "91517f5d-ff74-4e78-e134-2d2024064d7b"
      },
      "source": [
        "dfc.new_perc_subs"
      ],
      "execution_count": 34,
      "outputs": [
        {
          "output_type": "execute_result",
          "data": {
            "text/plain": [
              "2397    0.000000e+00\n",
              "1622    0.000000e+00\n",
              "515     8.096426e-08\n",
              "1017    8.096426e-08\n",
              "1566    1.214464e-07\n",
              "            ...     \n",
              "3226    1.321187e-02\n",
              "1211    1.569144e-02\n",
              "3204    1.618451e-02\n",
              "2589    1.648485e-02\n",
              "3230    2.328257e-02\n",
              "Name: new_perc_subs, Length: 2592, dtype: float64"
            ]
          },
          "metadata": {
            "tags": []
          },
          "execution_count": 34
        }
      ]
    },
    {
      "cell_type": "code",
      "metadata": {
        "id": "DpdBQN-XtYlt",
        "colab_type": "code",
        "colab": {}
      },
      "source": [
        "anyCat3 = dfc[(dfc.new_cat==3) | (dfc.old_cat==3)][['new_cat','old_cat']+disp_col]\n",
        "anyCat3.to_csv('anyCat3.csv')"
      ],
      "execution_count": 35,
      "outputs": []
    },
    {
      "cell_type": "code",
      "metadata": {
        "id": "X_CBgIUeTYZz",
        "colab_type": "code",
        "colab": {
          "base_uri": "https://localhost:8080/",
          "height": 1000
        },
        "outputId": "fb1a9687-6f00-47b5-c07e-4da8bdb99207"
      },
      "source": [
        "tmp1=dfc[dfc.old_cat==3].count().to_frame()\n",
        "tmp2=dfc[dfc.new_cat==3].count().to_frame()\n",
        "tmp1.columns=['old']\n",
        "tmp1.columns=['new']\n",
        "tmp1.join(tmp2)"
      ],
      "execution_count": 36,
      "outputs": [
        {
          "output_type": "execute_result",
          "data": {
            "text/html": [
              "<div>\n",
              "<style scoped>\n",
              "    .dataframe tbody tr th:only-of-type {\n",
              "        vertical-align: middle;\n",
              "    }\n",
              "\n",
              "    .dataframe tbody tr th {\n",
              "        vertical-align: top;\n",
              "    }\n",
              "\n",
              "    .dataframe thead th {\n",
              "        text-align: right;\n",
              "    }\n",
              "</style>\n",
              "<table border=\"1\" class=\"dataframe\">\n",
              "  <thead>\n",
              "    <tr style=\"text-align: right;\">\n",
              "      <th></th>\n",
              "      <th>new</th>\n",
              "      <th>0</th>\n",
              "    </tr>\n",
              "  </thead>\n",
              "  <tbody>\n",
              "    <tr>\n",
              "      <th>course_id</th>\n",
              "      <td>36</td>\n",
              "      <td>44</td>\n",
              "    </tr>\n",
              "    <tr>\n",
              "      <th>title</th>\n",
              "      <td>36</td>\n",
              "      <td>44</td>\n",
              "    </tr>\n",
              "    <tr>\n",
              "      <th>url</th>\n",
              "      <td>36</td>\n",
              "      <td>44</td>\n",
              "    </tr>\n",
              "    <tr>\n",
              "      <th>is_paid</th>\n",
              "      <td>36</td>\n",
              "      <td>44</td>\n",
              "    </tr>\n",
              "    <tr>\n",
              "      <th>old_price</th>\n",
              "      <td>36</td>\n",
              "      <td>44</td>\n",
              "    </tr>\n",
              "    <tr>\n",
              "      <th>old_subscribers</th>\n",
              "      <td>36</td>\n",
              "      <td>44</td>\n",
              "    </tr>\n",
              "    <tr>\n",
              "      <th>num_reviews</th>\n",
              "      <td>36</td>\n",
              "      <td>44</td>\n",
              "    </tr>\n",
              "    <tr>\n",
              "      <th>num_lectures</th>\n",
              "      <td>36</td>\n",
              "      <td>44</td>\n",
              "    </tr>\n",
              "    <tr>\n",
              "      <th>level</th>\n",
              "      <td>36</td>\n",
              "      <td>44</td>\n",
              "    </tr>\n",
              "    <tr>\n",
              "      <th>duration</th>\n",
              "      <td>36</td>\n",
              "      <td>44</td>\n",
              "    </tr>\n",
              "    <tr>\n",
              "      <th>old_pub_date</th>\n",
              "      <td>36</td>\n",
              "      <td>44</td>\n",
              "    </tr>\n",
              "    <tr>\n",
              "      <th>subject</th>\n",
              "      <td>36</td>\n",
              "      <td>44</td>\n",
              "    </tr>\n",
              "    <tr>\n",
              "      <th>status</th>\n",
              "      <td>36</td>\n",
              "      <td>44</td>\n",
              "    </tr>\n",
              "    <tr>\n",
              "      <th>rating1</th>\n",
              "      <td>21</td>\n",
              "      <td>27</td>\n",
              "    </tr>\n",
              "    <tr>\n",
              "      <th>rating2</th>\n",
              "      <td>21</td>\n",
              "      <td>27</td>\n",
              "    </tr>\n",
              "    <tr>\n",
              "      <th>rating3</th>\n",
              "      <td>21</td>\n",
              "      <td>27</td>\n",
              "    </tr>\n",
              "    <tr>\n",
              "      <th>rating4</th>\n",
              "      <td>21</td>\n",
              "      <td>27</td>\n",
              "    </tr>\n",
              "    <tr>\n",
              "      <th>rating5</th>\n",
              "      <td>21</td>\n",
              "      <td>27</td>\n",
              "    </tr>\n",
              "    <tr>\n",
              "      <th>rating_tot</th>\n",
              "      <td>21</td>\n",
              "      <td>27</td>\n",
              "    </tr>\n",
              "    <tr>\n",
              "      <th>new_subscribers</th>\n",
              "      <td>36</td>\n",
              "      <td>44</td>\n",
              "    </tr>\n",
              "    <tr>\n",
              "      <th>new_pub_date</th>\n",
              "      <td>36</td>\n",
              "      <td>44</td>\n",
              "    </tr>\n",
              "    <tr>\n",
              "      <th>upd_month</th>\n",
              "      <td>21</td>\n",
              "      <td>27</td>\n",
              "    </tr>\n",
              "    <tr>\n",
              "      <th>new_price</th>\n",
              "      <td>36</td>\n",
              "      <td>44</td>\n",
              "    </tr>\n",
              "    <tr>\n",
              "      <th>curr_price</th>\n",
              "      <td>36</td>\n",
              "      <td>44</td>\n",
              "    </tr>\n",
              "    <tr>\n",
              "      <th>discount</th>\n",
              "      <td>36</td>\n",
              "      <td>44</td>\n",
              "    </tr>\n",
              "    <tr>\n",
              "      <th>timestamp</th>\n",
              "      <td>36</td>\n",
              "      <td>44</td>\n",
              "    </tr>\n",
              "    <tr>\n",
              "      <th>old_revenue</th>\n",
              "      <td>36</td>\n",
              "      <td>44</td>\n",
              "    </tr>\n",
              "    <tr>\n",
              "      <th>new_revenue</th>\n",
              "      <td>36</td>\n",
              "      <td>44</td>\n",
              "    </tr>\n",
              "    <tr>\n",
              "      <th>hours_watched</th>\n",
              "      <td>36</td>\n",
              "      <td>44</td>\n",
              "    </tr>\n",
              "    <tr>\n",
              "      <th>price_per_lecture</th>\n",
              "      <td>36</td>\n",
              "      <td>44</td>\n",
              "    </tr>\n",
              "    <tr>\n",
              "      <th>new_perc_subs</th>\n",
              "      <td>36</td>\n",
              "      <td>44</td>\n",
              "    </tr>\n",
              "    <tr>\n",
              "      <th>old_perc_subs</th>\n",
              "      <td>36</td>\n",
              "      <td>44</td>\n",
              "    </tr>\n",
              "    <tr>\n",
              "      <th>cum_old_subsc</th>\n",
              "      <td>36</td>\n",
              "      <td>44</td>\n",
              "    </tr>\n",
              "    <tr>\n",
              "      <th>cum_new_subsc</th>\n",
              "      <td>36</td>\n",
              "      <td>44</td>\n",
              "    </tr>\n",
              "    <tr>\n",
              "      <th>new_cat</th>\n",
              "      <td>36</td>\n",
              "      <td>44</td>\n",
              "    </tr>\n",
              "    <tr>\n",
              "      <th>old_cat</th>\n",
              "      <td>36</td>\n",
              "      <td>44</td>\n",
              "    </tr>\n",
              "  </tbody>\n",
              "</table>\n",
              "</div>"
            ],
            "text/plain": [
              "                   new   0\n",
              "course_id           36  44\n",
              "title               36  44\n",
              "url                 36  44\n",
              "is_paid             36  44\n",
              "old_price           36  44\n",
              "old_subscribers     36  44\n",
              "num_reviews         36  44\n",
              "num_lectures        36  44\n",
              "level               36  44\n",
              "duration            36  44\n",
              "old_pub_date        36  44\n",
              "subject             36  44\n",
              "status              36  44\n",
              "rating1             21  27\n",
              "rating2             21  27\n",
              "rating3             21  27\n",
              "rating4             21  27\n",
              "rating5             21  27\n",
              "rating_tot          21  27\n",
              "new_subscribers     36  44\n",
              "new_pub_date        36  44\n",
              "upd_month           21  27\n",
              "new_price           36  44\n",
              "curr_price          36  44\n",
              "discount            36  44\n",
              "timestamp           36  44\n",
              "old_revenue         36  44\n",
              "new_revenue         36  44\n",
              "hours_watched       36  44\n",
              "price_per_lecture   36  44\n",
              "new_perc_subs       36  44\n",
              "old_perc_subs       36  44\n",
              "cum_old_subsc       36  44\n",
              "cum_new_subsc       36  44\n",
              "new_cat             36  44\n",
              "old_cat             36  44"
            ]
          },
          "metadata": {
            "tags": []
          },
          "execution_count": 36
        }
      ]
    },
    {
      "cell_type": "markdown",
      "metadata": {
        "id": "-WzedE8wogGk",
        "colab_type": "text"
      },
      "source": [
        "A naive first attempt to plot histograms of the number of subscribers does not give much information:"
      ]
    },
    {
      "cell_type": "code",
      "metadata": {
        "id": "RxqBGX1zhVCz",
        "colab_type": "code",
        "colab": {
          "base_uri": "https://localhost:8080/",
          "height": 424
        },
        "outputId": "9721ad4d-3bfa-48a1-cd02-b3ee6e74bcd2"
      },
      "source": [
        "plt.hist(dfc.new_subscribers,bins=20);\n",
        "plt.hist(dfc.old_subscribers,bins=20)"
      ],
      "execution_count": 37,
      "outputs": [
        {
          "output_type": "execute_result",
          "data": {
            "text/plain": [
              "(array([2.438e+03, 1.000e+02, 1.900e+01, 1.200e+01, 9.000e+00, 7.000e+00,\n",
              "        1.000e+00, 1.000e+00, 2.000e+00, 1.000e+00, 0.000e+00, 1.000e+00,\n",
              "        0.000e+00, 0.000e+00, 0.000e+00, 0.000e+00, 0.000e+00, 0.000e+00,\n",
              "        0.000e+00, 1.000e+00]),\n",
              " array([     0.  ,  13446.15,  26892.3 ,  40338.45,  53784.6 ,  67230.75,\n",
              "         80676.9 ,  94123.05, 107569.2 , 121015.35, 134461.5 , 147907.65,\n",
              "        161353.8 , 174799.95, 188246.1 , 201692.25, 215138.4 , 228584.55,\n",
              "        242030.7 , 255476.85, 268923.  ]),\n",
              " <a list of 20 Patch objects>)"
            ]
          },
          "metadata": {
            "tags": []
          },
          "execution_count": 37
        },
        {
          "output_type": "display_data",
          "data": {
            "image/png": "[encoded data removed]",
            "text/plain": [
              "<Figure size 432x288 with 1 Axes>"
            ]
          },
          "metadata": {
            "tags": [],
            "needs_background": "light"
          }
        }
      ]
    },
    {
      "cell_type": "markdown",
      "metadata": {
        "id": "LHzdbMAGpAxg",
        "colab_type": "text"
      },
      "source": [
        "The first naive attempt does tells us a few things that are helpful in generating a more meaningful plot:\n",
        "\n",
        "1. Most of the courses are in the lowest bin with much less than 100,000 subscribers\n",
        "2. There must be some courses with more than 500,000 subscribers listed even though we can not see them on this scale.  Otherwise the x-axis would not extend that far.\n",
        "3. A log plot may at least make it possible to see these few outliers.\n",
        "4. Using more histogram bins may help see the details"
      ]
    },
    {
      "cell_type": "code",
      "metadata": {
        "id": "6Izfrh4Ozeze",
        "colab_type": "code",
        "colab": {
          "base_uri": "https://localhost:8080/",
          "height": 52
        },
        "outputId": "ce714395-7cbb-468e-f303-6b500ac326ee"
      },
      "source": [
        "max_old = max(dfc.old_subscribers)\n",
        "tot_old = dfc.old_subscribers.sum()\n",
        "print(\"max(old_subscribers)={:9.0f} which is{:7.4f}% of {:9.0f}\".format(max_old,max_old/tot_old,tot_old))\n",
        "max_new = max(dfc.new_subscribers)\n",
        "tot_new = dfc.new_subscribers.sum()\n",
        "print(\"max(new_subscribers)={:9.0f} which is{:7.4f}% of {:9.0f}\".format(max_new,max_new/tot_new,tot_new))"
      ],
      "execution_count": 38,
      "outputs": [
        {
          "output_type": "stream",
          "text": [
            "max(old_subscribers)=   268923 which is 0.0275% of   9777804\n",
            "max(new_subscribers)=   575132 which is 0.0233% of  24702258\n"
          ],
          "name": "stdout"
        }
      ]
    },
    {
      "cell_type": "code",
      "metadata": {
        "id": "gLbQzqJsY4tQ",
        "colab_type": "code",
        "colab": {
          "base_uri": "https://localhost:8080/",
          "height": 592
        },
        "outputId": "65f5d558-94c6-4d33-ead7-ce0aaa845367"
      },
      "source": [
        "plt.figure(figsize=(20,10))\n",
        "plt.yscale('log')\n",
        "plt.hist(dfc.new_subscribers,bins=50, label='New')\n",
        "plt.hist(dfc.old_subscribers,bins=50, label='Old',alpha=0.6)\n",
        "plt.legend()\n",
        "plt.show()"
      ],
      "execution_count": 39,
      "outputs": [
        {
          "output_type": "display_data",
          "data": {
            "image/png": "[encoded data removed]",
            "text/plain": [
              "<Figure size 1440x720 with 1 Axes>"
            ]
          },
          "metadata": {
            "tags": [],
            "needs_background": "light"
          }
        }
      ]
    },
    {
      "cell_type": "markdown",
      "metadata": {
        "id": "AjRp1NSamIp5",
        "colab_type": "text"
      },
      "source": [
        "\n",
        "We can now see that there is indeed only one course with more than 500,000 subscribers which is more than 2% of all subscribers in the neww data set.\n",
        "We also see that there are only a few others with more than 200,000.\n",
        "\n",
        "For the old data set (in blue/magenta) we see the most popular course had more than 250000 subscribers and the there are only a few courses with more than 80000.\n",
        "\n",
        "We can not ignore these few outliers because as few as they are, they represent a significant percentage of the total Udemy subscribers (and the corresponding enrollment and possible revenue).  However, we already know that they form their own category and need to be analyzed separately if we want our statistical analysis to have any meaning.\n",
        "\n",
        "We also know that at this bin resolution, the actual thresholds may be much lower but we can not see the gaps because they are binned together.\n",
        "\n",
        "Moreover, we can see that the old and the new data are on different scales.\n",
        "Lets start by normalizing the data by looking at the percetage of Udemy students per course instead of their absolute numbers"
      ]
    },
    {
      "cell_type": "code",
      "metadata": {
        "id": "Xk31SAkQKcoK",
        "colab_type": "code",
        "colab": {
          "base_uri": "https://localhost:8080/",
          "height": 592
        },
        "outputId": "f8f6de0e-82be-4d0b-9e6a-8bc699d3d16f"
      },
      "source": [
        "plt.figure(figsize=(20,10))\n",
        "bin_list=50\n",
        "plt.hist(100*dfc.new_perc_subs,bins=bin_list, label='New');\n",
        "plt.hist(100*dfc.old_perc_subs,bins=bin_list, label='Old',alpha=0.6);\n",
        "plt.yscale('log')\n",
        "plt.legend()\n",
        "plt.show()"
      ],
      "execution_count": 40,
      "outputs": [
        {
          "output_type": "display_data",
          "data": {
            "image/png": "[encoded data removed]",
            "text/plain": [
              "<Figure size 1440x720 with 1 Axes>"
            ]
          },
          "metadata": {
            "tags": [],
            "needs_background": "light"
          }
        }
      ]
    },
    {
      "cell_type": "code",
      "metadata": {
        "id": "ayUN36zj_RGq",
        "colab_type": "code",
        "colab": {
          "base_uri": "https://localhost:8080/",
          "height": 592
        },
        "outputId": "225f62cf-48cf-49c2-ce81-7aa2ed4c3e16"
      },
      "source": [
        "plt.figure(figsize=(20,10))\n",
        "bin_list=200\n",
        "plt.hist(100*dfc.new_perc_subs,bins=bin_list, label='New');\n",
        "plt.hist(100*dfc.old_perc_subs,bins=bin_list, label='Old',alpha=0.6);\n",
        "plt.yscale('log')\n",
        "plt.legend()\n",
        "plt.show()"
      ],
      "execution_count": 41,
      "outputs": [
        {
          "output_type": "display_data",
          "data": {
            "image/png": "[encoded data removed]",
            "text/plain": [
              "<Figure size 1440x720 with 1 Axes>"
            ]
          },
          "metadata": {
            "tags": [],
            "needs_background": "light"
          }
        }
      ]
    },
    {
      "cell_type": "markdown",
      "metadata": {
        "id": "QAR1s12WAMEE",
        "colab_type": "text"
      },
      "source": [
        "Now zoom in on the majority of the courses (those with less than 0.5% of students each).\n"
      ]
    },
    {
      "cell_type": "code",
      "metadata": {
        "id": "AYU0ZhAGucMp",
        "colab_type": "code",
        "colab": {
          "base_uri": "https://localhost:8080/",
          "height": 592
        },
        "outputId": "c94f0f67-6662-4562-e795-9a3792f711be"
      },
      "source": [
        "plt.figure(figsize=(20,10))\n",
        "bin_list=250\n",
        "plt.hist(100*dfc[dfc.new_perc_subs<0.005].new_perc_subs,bins=bin_list, label='New')\n",
        "plt.hist(100*dfc[dfc.old_perc_subs<0.005].old_perc_subs,bins=bin_list, label='Old',alpha=0.6)\n",
        "plt.yscale('log')\n",
        "plt.legend()\n",
        "plt.show()"
      ],
      "execution_count": 42,
      "outputs": [
        {
          "output_type": "display_data",
          "data": {
            "image/png": "[encoded data removed]",
            "text/plain": [
              "<Figure size 1440x720 with 1 Axes>"
            ]
          },
          "metadata": {
            "tags": [],
            "needs_background": "light"
          }
        }
      ]
    },
    {
      "cell_type": "code",
      "metadata": {
        "id": "O_UkBFkBDO88",
        "colab_type": "code",
        "colab": {
          "base_uri": "https://localhost:8080/",
          "height": 52
        },
        "outputId": "fcfd5bbb-5fb8-4a6c-88a8-30940d66eaad"
      },
      "source": [
        "print('{:6.0f} < {:8.1f}, {:f}%'.format(40000, 0.005*tot_old, 40000*100/tot_old))\n",
        "print('{:6.0f} < {:8.1f}, {:f}%'.format(90000, 0.005*tot_new, 90000*100/tot_new))"
      ],
      "execution_count": 43,
      "outputs": [
        {
          "output_type": "stream",
          "text": [
            " 40000 <  48889.0, 0.409090%\n",
            " 90000 < 123511.3, 0.364339%\n"
          ],
          "name": "stdout"
        }
      ]
    },
    {
      "cell_type": "code",
      "metadata": {
        "id": "oWXemoOvt25B",
        "colab_type": "code",
        "colab": {
          "base_uri": "https://localhost:8080/",
          "height": 320
        },
        "outputId": "af44a161-b806-41e6-b633-24adc907f104"
      },
      "source": [
        "plt.figure(figsize=(20,5))\n",
        "bin_list=200\n",
        "plt.hist(dfc.query(\"old_subscribers< 48889\").old_subscribers,bins=bin_list, label='Old');\n",
        "plt.yscale('log')\n",
        "plt.legend()\n",
        "plt.show()"
      ],
      "execution_count": 44,
      "outputs": [
        {
          "output_type": "display_data",
          "data": {
            "image/png": "[encoded data removed]",
            "text/plain": [
              "<Figure size 1440x360 with 1 Axes>"
            ]
          },
          "metadata": {
            "tags": [],
            "needs_background": "light"
          }
        }
      ]
    },
    {
      "cell_type": "code",
      "metadata": {
        "id": "pnYBLYjHHwhs",
        "colab_type": "code",
        "colab": {
          "base_uri": "https://localhost:8080/",
          "height": 320
        },
        "outputId": "6fc2d89b-6855-4eae-b9ac-12493431c6f6"
      },
      "source": [
        "plt.figure(figsize=(20,5))\n",
        "bin_list=500\n",
        "plt.hist(dfc.query(\"old_subscribers< 48889\").old_subscribers,bins=bin_list, label='Old');\n",
        "plt.yscale('log')\n",
        "plt.legend()\n",
        "plt.show()"
      ],
      "execution_count": 45,
      "outputs": [
        {
          "output_type": "display_data",
          "data": {
            "image/png": "[encoded data removed]",
            "text/plain": [
              "<Figure size 1440x360 with 1 Axes>"
            ]
          },
          "metadata": {
            "tags": [],
            "needs_background": "light"
          }
        }
      ]
    },
    {
      "cell_type": "code",
      "metadata": {
        "id": "v63oxzNEITt6",
        "colab_type": "code",
        "colab": {
          "base_uri": "https://localhost:8080/",
          "height": 320
        },
        "outputId": "4975c117-fee3-48e5-ac3d-48318e47119d"
      },
      "source": [
        "plt.figure(figsize=(20,5))\n",
        "bin_list=500\n",
        "plt.hist(dfc.query(\"new_subscribers< 123511\").new_subscribers,bins=bin_list, label='Old');\n",
        "plt.yscale('log')\n",
        "plt.legend()\n",
        "plt.show()"
      ],
      "execution_count": 46,
      "outputs": [
        {
          "output_type": "display_data",
          "data": {
            "image/png": "[encoded data removed]",
            "text/plain": [
              "<Figure size 1440x360 with 1 Axes>"
            ]
          },
          "metadata": {
            "tags": [],
            "needs_background": "light"
          }
        }
      ]
    },
    {
      "cell_type": "markdown",
      "metadata": {
        "id": "9ZzdZ8KUtdPq",
        "colab_type": "text"
      },
      "source": [
        "We can now see three distinct regions in the subscriber data:\n",
        "1. Most courses have less than 0.2% of the subscribers.  This is not surprising - if there we were more than 500 courses with 0.2% of the subscribers - those courses alone would have more than 100% of the subscribers which would be impossible. \n",
        "\n",
        "2. The important insight here is that in a sample of several thousand courses the most popular ones have more than 0.2% each and together these few courses account for a disproportionate percentage of the overall subscription base.\n",
        "\n",
        "2. There is a middle region where a linear fit (on a log scale) might do a reasonable job of approximating the data.  This translates to an exponential decay in the number of subscribers as the number of courses grows.\n",
        "\n",
        "3. Courses with more than 0.2% of the subscription totals still show a relatively spare distribution  probably belong with the best sellers.\n",
        "3a. More than 40,000 students per courses in the old data set probably belong with the best sellers.\n",
        "3b. Courses with more than 90,000 new subscribers probably belong with the best sellers."
      ]
    },
    {
      "cell_type": "code",
      "metadata": {
        "id": "UD6trVMrzGp_",
        "colab_type": "code",
        "colab": {
          "base_uri": "https://localhost:8080/",
          "height": 266
        },
        "outputId": "9b69631c-dd06-463a-cc26-819b36dfae0a"
      },
      "source": [
        "plt.hist(dfc.query(\"old_subscribers< 40000\").old_subscribers,bins=100, label='Old');\n",
        "plt.yscale('log')\n",
        "plt.legend()\n",
        "plt.show()"
      ],
      "execution_count": 47,
      "outputs": [
        {
          "output_type": "display_data",
          "data": {
            "image/png": "[encoded data removed]",
            "text/plain": [
              "<Figure size 432x288 with 1 Axes>"
            ]
          },
          "metadata": {
            "tags": [],
            "needs_background": "light"
          }
        }
      ]
    },
    {
      "cell_type": "code",
      "metadata": {
        "id": "XLknFKkIztvG",
        "colab_type": "code",
        "colab": {
          "base_uri": "https://localhost:8080/",
          "height": 264
        },
        "outputId": "861c06ce-c8fa-4fa7-a7fc-6c531416f2f5"
      },
      "source": [
        "plt.hist(dfc.query(\"new_subscribers<90000\").new_subscribers,bins=100, label='New');\n",
        "plt.yscale('log')\n",
        "plt.legend()\n",
        "plt.show()"
      ],
      "execution_count": 48,
      "outputs": [
        {
          "output_type": "display_data",
          "data": {
            "image/png": "[encoded data removed]",
            "text/plain": [
              "<Figure size 432x288 with 1 Axes>"
            ]
          },
          "metadata": {
            "tags": [],
            "needs_background": "light"
          }
        }
      ]
    },
    {
      "cell_type": "markdown",
      "metadata": {
        "id": "FDCu6mzx0Iue",
        "colab_type": "text"
      },
      "source": [
        "Looking for the Low thresholds based on courses with less than 1% of the total student enrollment\n"
      ]
    },
    {
      "cell_type": "code",
      "metadata": {
        "id": "Yhqr81xn4Aeg",
        "colab_type": "code",
        "colab": {
          "base_uri": "https://localhost:8080/",
          "height": 894
        },
        "outputId": "0e65b445-a60c-4fb0-8ff5-4979b9ac974a"
      },
      "source": [
        "dfc[abs(dfc.cum_new_subsc-0.01)<0.0002].sort_values('new_subscribers')"
      ],
      "execution_count": 49,
      "outputs": [
        {
          "output_type": "execute_result",
          "data": {
            "text/html": [
              "<div>\n",
              "<style scoped>\n",
              "    .dataframe tbody tr th:only-of-type {\n",
              "        vertical-align: middle;\n",
              "    }\n",
              "\n",
              "    .dataframe tbody tr th {\n",
              "        vertical-align: top;\n",
              "    }\n",
              "\n",
              "    .dataframe thead th {\n",
              "        text-align: right;\n",
              "    }\n",
              "</style>\n",
              "<table border=\"1\" class=\"dataframe\">\n",
              "  <thead>\n",
              "    <tr style=\"text-align: right;\">\n",
              "      <th></th>\n",
              "      <th>course_id</th>\n",
              "      <th>title</th>\n",
              "      <th>url</th>\n",
              "      <th>is_paid</th>\n",
              "      <th>old_price</th>\n",
              "      <th>old_subscribers</th>\n",
              "      <th>num_reviews</th>\n",
              "      <th>num_lectures</th>\n",
              "      <th>level</th>\n",
              "      <th>duration</th>\n",
              "      <th>old_pub_date</th>\n",
              "      <th>subject</th>\n",
              "      <th>status</th>\n",
              "      <th>rating1</th>\n",
              "      <th>rating2</th>\n",
              "      <th>rating3</th>\n",
              "      <th>rating4</th>\n",
              "      <th>rating5</th>\n",
              "      <th>rating_tot</th>\n",
              "      <th>new_subscribers</th>\n",
              "      <th>new_pub_date</th>\n",
              "      <th>upd_month</th>\n",
              "      <th>new_price</th>\n",
              "      <th>curr_price</th>\n",
              "      <th>discount</th>\n",
              "      <th>timestamp</th>\n",
              "      <th>old_revenue</th>\n",
              "      <th>new_revenue</th>\n",
              "      <th>hours_watched</th>\n",
              "      <th>price_per_lecture</th>\n",
              "      <th>new_perc_subs</th>\n",
              "      <th>old_perc_subs</th>\n",
              "      <th>cum_old_subsc</th>\n",
              "      <th>cum_new_subsc</th>\n",
              "      <th>new_cat</th>\n",
              "      <th>old_cat</th>\n",
              "    </tr>\n",
              "  </thead>\n",
              "  <tbody>\n",
              "    <tr>\n",
              "      <th>3649</th>\n",
              "      <td>1018530</td>\n",
              "      <td>Cakephp:Creating a CRUD application</td>\n",
              "      <td>https://www.udemy.com/cakephpcreating-a-crud-a...</td>\n",
              "      <td>True</td>\n",
              "      <td>40</td>\n",
              "      <td>803</td>\n",
              "      <td>2</td>\n",
              "      <td>7</td>\n",
              "      <td>All Levels</td>\n",
              "      <td>0.516667</td>\n",
              "      <td>2016-11-22T17:55:42Z</td>\n",
              "      <td>Web Development</td>\n",
              "      <td>OK</td>\n",
              "      <td>2.0</td>\n",
              "      <td>2.0</td>\n",
              "      <td>1.0</td>\n",
              "      <td>0.0</td>\n",
              "      <td>0.0</td>\n",
              "      <td>5.0</td>\n",
              "      <td>817.0</td>\n",
              "      <td>11/2016</td>\n",
              "      <td>44.0</td>\n",
              "      <td>159.99</td>\n",
              "      <td>95.99</td>\n",
              "      <td>40.0</td>\n",
              "      <td>2020-07-09 17:23:07</td>\n",
              "      <td>32120</td>\n",
              "      <td>130711.83</td>\n",
              "      <td>5621</td>\n",
              "      <td>5.714286</td>\n",
              "      <td>0.000033</td>\n",
              "      <td>0.000082</td>\n",
              "      <td>0.026687</td>\n",
              "      <td>0.009811</td>\n",
              "      <td>1</td>\n",
              "      <td>1</td>\n",
              "    </tr>\n",
              "    <tr>\n",
              "      <th>3269</th>\n",
              "      <td>1021594</td>\n",
              "      <td>PHP Zend Framework 2:Creating a CRUD Application</td>\n",
              "      <td>https://www.udemy.com/zend-framework-2creating...</td>\n",
              "      <td>True</td>\n",
              "      <td>40</td>\n",
              "      <td>802</td>\n",
              "      <td>6</td>\n",
              "      <td>9</td>\n",
              "      <td>All Levels</td>\n",
              "      <td>0.633333</td>\n",
              "      <td>2016-11-25T01:33:50Z</td>\n",
              "      <td>Web Development</td>\n",
              "      <td>OK</td>\n",
              "      <td>3.0</td>\n",
              "      <td>0.0</td>\n",
              "      <td>1.0</td>\n",
              "      <td>0.0</td>\n",
              "      <td>2.0</td>\n",
              "      <td>6.0</td>\n",
              "      <td>817.0</td>\n",
              "      <td>11/2016</td>\n",
              "      <td>44.0</td>\n",
              "      <td>159.99</td>\n",
              "      <td>95.99</td>\n",
              "      <td>40.0</td>\n",
              "      <td>2020-07-09 16:38:17</td>\n",
              "      <td>32080</td>\n",
              "      <td>130711.83</td>\n",
              "      <td>7218</td>\n",
              "      <td>4.444444</td>\n",
              "      <td>0.000033</td>\n",
              "      <td>0.000082</td>\n",
              "      <td>0.026523</td>\n",
              "      <td>0.009844</td>\n",
              "      <td>1</td>\n",
              "      <td>1</td>\n",
              "    </tr>\n",
              "    <tr>\n",
              "      <th>3048</th>\n",
              "      <td>641236</td>\n",
              "      <td>Basic JavaScript: Build 4 Basic JavaScript Pro...</td>\n",
              "      <td>https://www.udemy.com/practical-javascript-jav...</td>\n",
              "      <td>True</td>\n",
              "      <td>40</td>\n",
              "      <td>670</td>\n",
              "      <td>33</td>\n",
              "      <td>37</td>\n",
              "      <td>Beginner Level</td>\n",
              "      <td>4.500000</td>\n",
              "      <td>2016-02-04T03:55:24Z</td>\n",
              "      <td>Web Development</td>\n",
              "      <td>OK</td>\n",
              "      <td>0.0</td>\n",
              "      <td>1.0</td>\n",
              "      <td>16.0</td>\n",
              "      <td>12.0</td>\n",
              "      <td>44.0</td>\n",
              "      <td>73.0</td>\n",
              "      <td>820.0</td>\n",
              "      <td>10/2019</td>\n",
              "      <td>9.0</td>\n",
              "      <td>279.99</td>\n",
              "      <td>167.99</td>\n",
              "      <td>40.0</td>\n",
              "      <td>2020-07-09 16:30:27</td>\n",
              "      <td>26800</td>\n",
              "      <td>229591.80</td>\n",
              "      <td>24790</td>\n",
              "      <td>1.081081</td>\n",
              "      <td>0.000033</td>\n",
              "      <td>0.000069</td>\n",
              "      <td>0.020540</td>\n",
              "      <td>0.009877</td>\n",
              "      <td>1</td>\n",
              "      <td>1</td>\n",
              "    </tr>\n",
              "    <tr>\n",
              "      <th>3500</th>\n",
              "      <td>661780</td>\n",
              "      <td>JavaScript Promises: Applications in ES6 and A...</td>\n",
              "      <td>https://www.udemy.com/javascript-promises-appl...</td>\n",
              "      <td>True</td>\n",
              "      <td>75</td>\n",
              "      <td>651</td>\n",
              "      <td>52</td>\n",
              "      <td>20</td>\n",
              "      <td>Beginner Level</td>\n",
              "      <td>2.500000</td>\n",
              "      <td>2015-11-06T19:02:46Z</td>\n",
              "      <td>Web Development</td>\n",
              "      <td>OK</td>\n",
              "      <td>3.0</td>\n",
              "      <td>7.0</td>\n",
              "      <td>9.0</td>\n",
              "      <td>29.0</td>\n",
              "      <td>31.0</td>\n",
              "      <td>79.0</td>\n",
              "      <td>825.0</td>\n",
              "      <td>2/2016</td>\n",
              "      <td>53.0</td>\n",
              "      <td>299.99</td>\n",
              "      <td>179.99</td>\n",
              "      <td>40.0</td>\n",
              "      <td>2020-07-09 17:17:51</td>\n",
              "      <td>48825</td>\n",
              "      <td>247491.75</td>\n",
              "      <td>13020</td>\n",
              "      <td>3.750000</td>\n",
              "      <td>0.000033</td>\n",
              "      <td>0.000067</td>\n",
              "      <td>0.019390</td>\n",
              "      <td>0.009910</td>\n",
              "      <td>1</td>\n",
              "      <td>1</td>\n",
              "    </tr>\n",
              "    <tr>\n",
              "      <th>1818</th>\n",
              "      <td>271652</td>\n",
              "      <td>How To Play The Djembe: For Beginners</td>\n",
              "      <td>https://www.udemy.com/how-to-play-the-djembe-f...</td>\n",
              "      <td>True</td>\n",
              "      <td>30</td>\n",
              "      <td>414</td>\n",
              "      <td>18</td>\n",
              "      <td>19</td>\n",
              "      <td>All Levels</td>\n",
              "      <td>1.000000</td>\n",
              "      <td>2014-11-11T05:00:30Z</td>\n",
              "      <td>Musical Instruments</td>\n",
              "      <td>OK</td>\n",
              "      <td>1.0</td>\n",
              "      <td>2.0</td>\n",
              "      <td>8.0</td>\n",
              "      <td>25.0</td>\n",
              "      <td>62.0</td>\n",
              "      <td>98.0</td>\n",
              "      <td>826.0</td>\n",
              "      <td>10/2014</td>\n",
              "      <td>69.0</td>\n",
              "      <td>119.99</td>\n",
              "      <td>71.99</td>\n",
              "      <td>40.0</td>\n",
              "      <td>2020-07-09 14:51:11</td>\n",
              "      <td>12420</td>\n",
              "      <td>99111.74</td>\n",
              "      <td>7866</td>\n",
              "      <td>1.578947</td>\n",
              "      <td>0.000033</td>\n",
              "      <td>0.000042</td>\n",
              "      <td>0.010378</td>\n",
              "      <td>0.009944</td>\n",
              "      <td>1</td>\n",
              "      <td>1</td>\n",
              "    </tr>\n",
              "    <tr>\n",
              "      <th>1931</th>\n",
              "      <td>743634</td>\n",
              "      <td>Piano With Willie: Blues n' Boogie Vol. 1</td>\n",
              "      <td>https://www.udemy.com/piano-with-willie-blues-...</td>\n",
              "      <td>True</td>\n",
              "      <td>40</td>\n",
              "      <td>172</td>\n",
              "      <td>26</td>\n",
              "      <td>15</td>\n",
              "      <td>Intermediate Level</td>\n",
              "      <td>2.500000</td>\n",
              "      <td>2016-04-13T05:27:23Z</td>\n",
              "      <td>Musical Instruments</td>\n",
              "      <td>OK</td>\n",
              "      <td>4.0</td>\n",
              "      <td>4.0</td>\n",
              "      <td>7.0</td>\n",
              "      <td>32.0</td>\n",
              "      <td>92.0</td>\n",
              "      <td>139.0</td>\n",
              "      <td>829.0</td>\n",
              "      <td>4/2016</td>\n",
              "      <td>51.0</td>\n",
              "      <td>159.99</td>\n",
              "      <td>95.99</td>\n",
              "      <td>40.0</td>\n",
              "      <td>2020-07-09 15:00:04</td>\n",
              "      <td>6880</td>\n",
              "      <td>132631.71</td>\n",
              "      <td>2580</td>\n",
              "      <td>2.666667</td>\n",
              "      <td>0.000034</td>\n",
              "      <td>0.000018</td>\n",
              "      <td>0.003129</td>\n",
              "      <td>0.009977</td>\n",
              "      <td>1</td>\n",
              "      <td>1</td>\n",
              "    </tr>\n",
              "    <tr>\n",
              "      <th>1799</th>\n",
              "      <td>643970</td>\n",
              "      <td>Instant Harmonica - Christmas. Play Jingle Bel...</td>\n",
              "      <td>https://www.udemy.com/instant-harmonica-christ...</td>\n",
              "      <td>True</td>\n",
              "      <td>20</td>\n",
              "      <td>823</td>\n",
              "      <td>11</td>\n",
              "      <td>10</td>\n",
              "      <td>All Levels</td>\n",
              "      <td>0.700000</td>\n",
              "      <td>2015-12-11T18:42:43Z</td>\n",
              "      <td>Musical Instruments</td>\n",
              "      <td>OK</td>\n",
              "      <td>0.0</td>\n",
              "      <td>0.0</td>\n",
              "      <td>0.0</td>\n",
              "      <td>3.0</td>\n",
              "      <td>11.0</td>\n",
              "      <td>14.0</td>\n",
              "      <td>829.0</td>\n",
              "      <td>0/0</td>\n",
              "      <td>NaN</td>\n",
              "      <td>159.99</td>\n",
              "      <td>95.99</td>\n",
              "      <td>40.0</td>\n",
              "      <td>2020-07-09 14:50:23</td>\n",
              "      <td>16460</td>\n",
              "      <td>132631.71</td>\n",
              "      <td>8230</td>\n",
              "      <td>2.000000</td>\n",
              "      <td>0.000034</td>\n",
              "      <td>0.000084</td>\n",
              "      <td>0.027436</td>\n",
              "      <td>0.010011</td>\n",
              "      <td>1</td>\n",
              "      <td>1</td>\n",
              "    </tr>\n",
              "    <tr>\n",
              "      <th>1619</th>\n",
              "      <td>987865</td>\n",
              "      <td>Make Patterns in Illustrator</td>\n",
              "      <td>https://www.udemy.com/make-patterns-in-illustr...</td>\n",
              "      <td>True</td>\n",
              "      <td>20</td>\n",
              "      <td>0</td>\n",
              "      <td>0</td>\n",
              "      <td>32</td>\n",
              "      <td>Beginner Level</td>\n",
              "      <td>3.500000</td>\n",
              "      <td>2017-05-25T15:31:11Z</td>\n",
              "      <td>Graphic Design</td>\n",
              "      <td>OK</td>\n",
              "      <td>2.0</td>\n",
              "      <td>1.0</td>\n",
              "      <td>9.0</td>\n",
              "      <td>36.0</td>\n",
              "      <td>123.0</td>\n",
              "      <td>171.0</td>\n",
              "      <td>832.0</td>\n",
              "      <td>2/2020</td>\n",
              "      <td>5.0</td>\n",
              "      <td>79.99</td>\n",
              "      <td>47.99</td>\n",
              "      <td>40.0</td>\n",
              "      <td>2020-07-09 14:43:30</td>\n",
              "      <td>0</td>\n",
              "      <td>66551.68</td>\n",
              "      <td>0</td>\n",
              "      <td>0.625000</td>\n",
              "      <td>0.000034</td>\n",
              "      <td>0.000000</td>\n",
              "      <td>0.000000</td>\n",
              "      <td>0.010045</td>\n",
              "      <td>1</td>\n",
              "      <td>1</td>\n",
              "    </tr>\n",
              "    <tr>\n",
              "      <th>1729</th>\n",
              "      <td>502204</td>\n",
              "      <td>Dibujo digital básico: cómo ilustrar en Photoshop</td>\n",
              "      <td>https://www.udemy.com/dibujo-digital-basico-co...</td>\n",
              "      <td>True</td>\n",
              "      <td>20</td>\n",
              "      <td>155</td>\n",
              "      <td>36</td>\n",
              "      <td>90</td>\n",
              "      <td>Beginner Level</td>\n",
              "      <td>5.000000</td>\n",
              "      <td>2016-02-17T23:56:26Z</td>\n",
              "      <td>Graphic Design</td>\n",
              "      <td>OK</td>\n",
              "      <td>13.0</td>\n",
              "      <td>27.0</td>\n",
              "      <td>58.0</td>\n",
              "      <td>80.0</td>\n",
              "      <td>62.0</td>\n",
              "      <td>240.0</td>\n",
              "      <td>832.0</td>\n",
              "      <td>6/2016</td>\n",
              "      <td>49.0</td>\n",
              "      <td>79.99</td>\n",
              "      <td>47.99</td>\n",
              "      <td>40.0</td>\n",
              "      <td>2020-07-09 14:47:41</td>\n",
              "      <td>3100</td>\n",
              "      <td>66551.68</td>\n",
              "      <td>13950</td>\n",
              "      <td>0.222222</td>\n",
              "      <td>0.000034</td>\n",
              "      <td>0.000016</td>\n",
              "      <td>0.002789</td>\n",
              "      <td>0.010078</td>\n",
              "      <td>1</td>\n",
              "      <td>1</td>\n",
              "    </tr>\n",
              "    <tr>\n",
              "      <th>2451</th>\n",
              "      <td>42255</td>\n",
              "      <td>Old-Time Banjo for the Absolute Beginner</td>\n",
              "      <td>https://www.udemy.com/old-time-banjo-for-the-a...</td>\n",
              "      <td>True</td>\n",
              "      <td>25</td>\n",
              "      <td>192</td>\n",
              "      <td>21</td>\n",
              "      <td>17</td>\n",
              "      <td>Beginner Level</td>\n",
              "      <td>1.500000</td>\n",
              "      <td>2014-03-12T15:55:49Z</td>\n",
              "      <td>Musical Instruments</td>\n",
              "      <td>OK</td>\n",
              "      <td>2.0</td>\n",
              "      <td>1.0</td>\n",
              "      <td>18.0</td>\n",
              "      <td>31.0</td>\n",
              "      <td>67.0</td>\n",
              "      <td>119.0</td>\n",
              "      <td>832.0</td>\n",
              "      <td>3/2014</td>\n",
              "      <td>76.0</td>\n",
              "      <td>79.99</td>\n",
              "      <td>47.99</td>\n",
              "      <td>40.0</td>\n",
              "      <td>2020-07-09 15:43:59</td>\n",
              "      <td>4800</td>\n",
              "      <td>66551.68</td>\n",
              "      <td>3264</td>\n",
              "      <td>1.470588</td>\n",
              "      <td>0.000034</td>\n",
              "      <td>0.000020</td>\n",
              "      <td>0.003542</td>\n",
              "      <td>0.010112</td>\n",
              "      <td>1</td>\n",
              "      <td>1</td>\n",
              "    </tr>\n",
              "    <tr>\n",
              "      <th>328</th>\n",
              "      <td>439362</td>\n",
              "      <td>Professional Options Trading, Simplified</td>\n",
              "      <td>https://www.udemy.com/optionstrading/</td>\n",
              "      <td>True</td>\n",
              "      <td>200</td>\n",
              "      <td>631</td>\n",
              "      <td>49</td>\n",
              "      <td>21</td>\n",
              "      <td>All Levels</td>\n",
              "      <td>2.000000</td>\n",
              "      <td>2015-04-17T21:59:15Z</td>\n",
              "      <td>Business Finance</td>\n",
              "      <td>OK</td>\n",
              "      <td>1.0</td>\n",
              "      <td>3.0</td>\n",
              "      <td>10.0</td>\n",
              "      <td>28.0</td>\n",
              "      <td>47.0</td>\n",
              "      <td>89.0</td>\n",
              "      <td>835.0</td>\n",
              "      <td>8/2017</td>\n",
              "      <td>35.0</td>\n",
              "      <td>799.99</td>\n",
              "      <td>479.99</td>\n",
              "      <td>40.0</td>\n",
              "      <td>2020-07-09 13:44:59</td>\n",
              "      <td>126200</td>\n",
              "      <td>667991.65</td>\n",
              "      <td>13251</td>\n",
              "      <td>9.523810</td>\n",
              "      <td>0.000034</td>\n",
              "      <td>0.000065</td>\n",
              "      <td>0.018668</td>\n",
              "      <td>0.010146</td>\n",
              "      <td>1</td>\n",
              "      <td>1</td>\n",
              "    </tr>\n",
              "    <tr>\n",
              "      <th>3627</th>\n",
              "      <td>599628</td>\n",
              "      <td>How to manage your own VPS and create websites</td>\n",
              "      <td>https://www.udemy.com/manage-vps/</td>\n",
              "      <td>True</td>\n",
              "      <td>120</td>\n",
              "      <td>735</td>\n",
              "      <td>16</td>\n",
              "      <td>30</td>\n",
              "      <td>All Levels</td>\n",
              "      <td>1.500000</td>\n",
              "      <td>2015-09-17T17:37:57Z</td>\n",
              "      <td>Web Development</td>\n",
              "      <td>OK</td>\n",
              "      <td>2.0</td>\n",
              "      <td>2.0</td>\n",
              "      <td>3.0</td>\n",
              "      <td>8.0</td>\n",
              "      <td>18.0</td>\n",
              "      <td>33.0</td>\n",
              "      <td>835.0</td>\n",
              "      <td>11/2015</td>\n",
              "      <td>56.0</td>\n",
              "      <td>79.99</td>\n",
              "      <td>47.99</td>\n",
              "      <td>40.0</td>\n",
              "      <td>2020-07-09 17:22:22</td>\n",
              "      <td>88200</td>\n",
              "      <td>66791.65</td>\n",
              "      <td>22050</td>\n",
              "      <td>4.000000</td>\n",
              "      <td>0.000034</td>\n",
              "      <td>0.000075</td>\n",
              "      <td>0.023218</td>\n",
              "      <td>0.010179</td>\n",
              "      <td>1</td>\n",
              "      <td>1</td>\n",
              "    </tr>\n",
              "  </tbody>\n",
              "</table>\n",
              "</div>"
            ],
            "text/plain": [
              "      course_id  ... old_cat\n",
              "3649    1018530  ...       1\n",
              "3269    1021594  ...       1\n",
              "3048     641236  ...       1\n",
              "3500     661780  ...       1\n",
              "1818     271652  ...       1\n",
              "1931     743634  ...       1\n",
              "1799     643970  ...       1\n",
              "1619     987865  ...       1\n",
              "1729     502204  ...       1\n",
              "2451      42255  ...       1\n",
              "328      439362  ...       1\n",
              "3627     599628  ...       1\n",
              "\n",
              "[12 rows x 36 columns]"
            ]
          },
          "metadata": {
            "tags": []
          },
          "execution_count": 49
        }
      ]
    },
    {
      "cell_type": "code",
      "metadata": {
        "id": "D0ljtIW20tDx",
        "colab_type": "code",
        "colab": {}
      },
      "source": [
        "cum_new_subsc=np.cumsum(dfc.new_subscribers.sort_values()).reset_index(drop=True)/dfc.new_subscribers.sum()\n",
        "cum_old_subsc=np.cumsum(dfc.old_subscribers.sort_values()).reset_index(drop=True)/dfc.old_subscribers.sum()"
      ],
      "execution_count": 50,
      "outputs": []
    },
    {
      "cell_type": "markdown",
      "metadata": {
        "id": "D0CLBAmb93g7",
        "colab_type": "text"
      },
      "source": [
        "Tentative decision, set low threshold at 10% of all students in each data set  (1700 for old set, 1855 for new set)"
      ]
    },
    {
      "cell_type": "code",
      "metadata": {
        "id": "fT0nOvMgzBA_",
        "colab_type": "code",
        "colab": {
          "base_uri": "https://localhost:8080/",
          "height": 34
        },
        "outputId": "204733b4-da8d-4d17-ed13-e8f7cf83be01"
      },
      "source": [
        "tot_new_Web = SubjPiv.new_subscribers[3]\n",
        "tot_new_Web\n",
        "#SubjPivloc['Web Development','new_subscribers']"
      ],
      "execution_count": 51,
      "outputs": [
        {
          "output_type": "execute_result",
          "data": {
            "text/plain": [
              "16533000.0"
            ]
          },
          "metadata": {
            "tags": []
          },
          "execution_count": 51
        }
      ]
    },
    {
      "cell_type": "code",
      "metadata": {
        "id": "d8xeM6YGtEOM",
        "colab_type": "code",
        "colab": {}
      },
      "source": [
        "cum_new_subsc_Web=np.cumsum(dfc.query(\"subject=='Web Development'\").new_subscribers.sort_values()).reset_index(drop=True)/SubjPiv.new_subscribers[3]\n",
        "cum_old_subsc_Web=np.cumsum(dfc.query(\"subject=='Web Development'\").old_subscribers.sort_values()).reset_index(drop=True)/SubjPiv.old_subscribers[3]"
      ],
      "execution_count": 52,
      "outputs": []
    },
    {
      "cell_type": "code",
      "metadata": {
        "id": "f8nnuORF2V5q",
        "colab_type": "code",
        "colab": {
          "base_uri": "https://localhost:8080/",
          "height": 282
        },
        "outputId": "d84660b4-d690-42aa-e731-3e175e176411"
      },
      "source": [
        "plt.plot(cum_old_subsc,color='blue')\n",
        "plt.plot(cum_new_subsc,color='red')"
      ],
      "execution_count": 53,
      "outputs": [
        {
          "output_type": "execute_result",
          "data": {
            "text/plain": [
              "[<matplotlib.lines.Line2D at 0x7fc4fa8014e0>]"
            ]
          },
          "metadata": {
            "tags": []
          },
          "execution_count": 53
        },
        {
          "output_type": "display_data",
          "data": {
            "image/png": "[encoded data removed]",
            "text/plain": [
              "<Figure size 432x288 with 1 Axes>"
            ]
          },
          "metadata": {
            "tags": [],
            "needs_background": "light"
          }
        }
      ]
    },
    {
      "cell_type": "code",
      "metadata": {
        "id": "i3yg2p4vokfq",
        "colab_type": "code",
        "colab": {
          "base_uri": "https://localhost:8080/",
          "height": 282
        },
        "outputId": "d325d441-a5f2-41d2-f8f5-c96f98527f05"
      },
      "source": [
        "plt.plot(cum_old_subsc_Web,color='blue')\n",
        "plt.plot(cum_new_subsc_Web,color='Red')"
      ],
      "execution_count": 54,
      "outputs": [
        {
          "output_type": "execute_result",
          "data": {
            "text/plain": [
              "[<matplotlib.lines.Line2D at 0x7fc4fa6c33c8>]"
            ]
          },
          "metadata": {
            "tags": []
          },
          "execution_count": 54
        },
        {
          "output_type": "display_data",
          "data": {
            "image/png": "[encoded data removed]",
            "text/plain": [
              "<Figure size 432x288 with 1 Axes>"
            ]
          },
          "metadata": {
            "tags": [],
            "needs_background": "light"
          }
        }
      ]
    },
    {
      "cell_type": "code",
      "metadata": {
        "id": "5f8TZRdQ1iFb",
        "colab_type": "code",
        "colab": {
          "base_uri": "https://localhost:8080/",
          "height": 282
        },
        "outputId": "6ba8433a-ce96-41c8-e62c-8b3713bf415f"
      },
      "source": [
        "plt.plot(cum_old_subsc[:2000],color='blue')\n",
        "plt.plot(cum_new_subsc[:2000],color='Red')"
      ],
      "execution_count": 55,
      "outputs": [
        {
          "output_type": "execute_result",
          "data": {
            "text/plain": [
              "[<matplotlib.lines.Line2D at 0x7fc4fa8114e0>]"
            ]
          },
          "metadata": {
            "tags": []
          },
          "execution_count": 55
        },
        {
          "output_type": "display_data",
          "data": {
            "image/png": "[encoded data removed]",
            "text/plain": [
              "<Figure size 432x288 with 1 Axes>"
            ]
          },
          "metadata": {
            "tags": [],
            "needs_background": "light"
          }
        }
      ]
    },
    {
      "cell_type": "code",
      "metadata": {
        "id": "LoA9idi-1V6k",
        "colab_type": "code",
        "colab": {
          "base_uri": "https://localhost:8080/",
          "height": 212
        },
        "outputId": "258a4915-43f6-4026-d1a2-46e7a5de390a"
      },
      "source": [
        "cum_new_subsc[1850:1860]"
      ],
      "execution_count": 56,
      "outputs": [
        {
          "output_type": "execute_result",
          "data": {
            "text/plain": [
              "1850    0.099016\n",
              "1851    0.099225\n",
              "1852    0.099436\n",
              "1853    0.099647\n",
              "1854    0.099859\n",
              "1855    0.100070\n",
              "1856    0.100282\n",
              "1857    0.100494\n",
              "1858    0.100706\n",
              "1859    0.100920\n",
              "Name: new_subscribers, dtype: float64"
            ]
          },
          "metadata": {
            "tags": []
          },
          "execution_count": 56
        }
      ]
    },
    {
      "cell_type": "code",
      "metadata": {
        "id": "hA2UR96r2_rk",
        "colab_type": "code",
        "colab": {
          "base_uri": "https://localhost:8080/",
          "height": 212
        },
        "outputId": "59bc1b75-25e3-4e74-9498-684e1f0d5878"
      },
      "source": [
        "cum_old_subsc[1700:1710]"
      ],
      "execution_count": 57,
      "outputs": [
        {
          "output_type": "execute_result",
          "data": {
            "text/plain": [
              "1700    0.099939\n",
              "1701    0.100126\n",
              "1702    0.100314\n",
              "1703    0.100502\n",
              "1704    0.100691\n",
              "1705    0.100879\n",
              "1706    0.101068\n",
              "1707    0.101257\n",
              "1708    0.101447\n",
              "1709    0.101636\n",
              "Name: old_subscribers, dtype: float64"
            ]
          },
          "metadata": {
            "tags": []
          },
          "execution_count": 57
        }
      ]
    },
    {
      "cell_type": "code",
      "metadata": {
        "id": "Y8Gz1GvjDe6g",
        "colab_type": "code",
        "colab": {
          "base_uri": "https://localhost:8080/",
          "height": 34
        },
        "outputId": "1c3b21db-3337-4bcb-d7ed-1dfdb9077f6c"
      },
      "source": [
        "[36/2592,48/2592,1700/2592]"
      ],
      "execution_count": 58,
      "outputs": [
        {
          "output_type": "execute_result",
          "data": {
            "text/plain": [
              "[0.013888888888888888, 0.018518518518518517, 0.6558641975308642]"
            ]
          },
          "metadata": {
            "tags": []
          },
          "execution_count": 58
        }
      ]
    },
    {
      "cell_type": "code",
      "metadata": {
        "id": "1hJ6eIycDsg3",
        "colab_type": "code",
        "colab": {
          "base_uri": "https://localhost:8080/",
          "height": 34
        },
        "outputId": "311c624f-1b67-4f7f-89bc-a95d89023929"
      },
      "source": [
        "[44/2592,65/2952,1854/2592]"
      ],
      "execution_count": 59,
      "outputs": [
        {
          "output_type": "execute_result",
          "data": {
            "text/plain": [
              "[0.016975308641975308, 0.022018970189701895, 0.7152777777777778]"
            ]
          },
          "metadata": {
            "tags": []
          },
          "execution_count": 59
        }
      ]
    },
    {
      "cell_type": "code",
      "metadata": {
        "id": "ED3Nxw1RkZhD",
        "colab_type": "code",
        "colab": {
          "base_uri": "https://localhost:8080/",
          "height": 34
        },
        "outputId": "2ff191f4-b772-49c0-9d04-1b2f6239089c"
      },
      "source": [
        "dfc.query(\"old_subscribers>=40000\").old_subscribers.sum()/old_subsTot"
      ],
      "execution_count": 60,
      "outputs": [
        {
          "output_type": "execute_result",
          "data": {
            "text/plain": [
              "0.2678368271648726"
            ]
          },
          "metadata": {
            "tags": []
          },
          "execution_count": 60
        }
      ]
    },
    {
      "cell_type": "code",
      "metadata": {
        "id": "8ziIkcNqmKl1",
        "colab_type": "code",
        "colab": {
          "base_uri": "https://localhost:8080/",
          "height": 34
        },
        "outputId": "7ce4796d-3a10-4b8f-a25b-1da4e76bbea4"
      },
      "source": [
        "dfc.query(\"old_subscribers>=30000\").old_subscribers.sum()/old_subsTot"
      ],
      "execution_count": 61,
      "outputs": [
        {
          "output_type": "execute_result",
          "data": {
            "text/plain": [
              "0.30919775033330593"
            ]
          },
          "metadata": {
            "tags": []
          },
          "execution_count": 61
        }
      ]
    },
    {
      "cell_type": "code",
      "metadata": {
        "id": "dqKOWZMzlTNI",
        "colab_type": "code",
        "colab": {
          "base_uri": "https://localhost:8080/",
          "height": 34
        },
        "outputId": "de3faeea-e79f-4c24-acc9-6311be2f1b78"
      },
      "source": [
        "dfc.query(\"new_subscribers>=90000\").new_subscribers.sum()/new_subsTot"
      ],
      "execution_count": 62,
      "outputs": [
        {
          "output_type": "execute_result",
          "data": {
            "text/plain": [
              "0.33529938842028123"
            ]
          },
          "metadata": {
            "tags": []
          },
          "execution_count": 62
        }
      ]
    },
    {
      "cell_type": "code",
      "metadata": {
        "id": "ewxUOKjqmW-c",
        "colab_type": "code",
        "colab": {
          "base_uri": "https://localhost:8080/",
          "height": 34
        },
        "outputId": "38787cf0-96c2-4453-b50d-390c3a53e297"
      },
      "source": [
        "dfc.query(\"new_subscribers>=70000\").new_subscribers.sum()/new_subsTot"
      ],
      "execution_count": 70,
      "outputs": [
        {
          "output_type": "execute_result",
          "data": {
            "text/plain": [
              "0.40308266556037103"
            ]
          },
          "metadata": {
            "tags": []
          },
          "execution_count": 70
        }
      ]
    },
    {
      "cell_type": "markdown",
      "metadata": {
        "id": "S5Y36yuM_1Ig",
        "colab_type": "text"
      },
      "source": [
        "Questions:\n",
        "What is the num_subscribers for the course at the threshold (for each data set)?\n",
        "\n",
        "How do these threshold affect the results in terms of transitions between categories?\n",
        "\n",
        "How do these thresholds correlate with cumulative revnues?\n",
        "\n"
      ]
    },
    {
      "cell_type": "markdown",
      "metadata": {
        "id": "JVIeb58py_N-",
        "colab_type": "text"
      },
      "source": [
        "With the log scale removed, the area under the histogram might tells us something meaningful about the distribution of course sizes.  But we are not there yet ...\n",
        "\n",
        "We know from the earlier log plot that there are more than 10 courses with at least 30,000 subscribers each that are drowned out by the vertical scale of this plot.\n",
        "\n",
        "Let's take a closer look at the courses on the lower end of the subscriber numbers that are drowning out our real data.  There may be a large number of these courses but with their low attentance they represent only a small portion of the student population:"
      ]
    },
    {
      "cell_type": "code",
      "metadata": {
        "id": "myo9vH540k8H",
        "colab_type": "code",
        "colab": {
          "base_uri": "https://localhost:8080/",
          "height": 353
        },
        "outputId": "4a96e1bf-a777-4b8d-f4de-30d4946cf3fc"
      },
      "source": [
        "thr = 2000\n",
        "print(\"sum(old_subscribers<=\",thr,'): ', df.query(\"old_subscribers<\"+str(thr)).old_subscribers.sum())\n",
        "print(\"sum(old_subscribers    )= \",                                 df.old_subscribers.sum())\n",
        "plt.hist(df.query(\"old_subscribers<@thr\").old_subscribers,bins=100);\n",
        "print(\"Number of courses with old_subscribers<  20: \",df.query(\"old_subscribers< 20\").shape[0])\n",
        "print(\"Number of courses with old_subscribers<=\",thr,'): ',df.query(\"old_subscribers<\"+str(thr)).shape[0])\n",
        "print(\"Number of courses                          :\",                              df.shape[0])\n"
      ],
      "execution_count": 64,
      "outputs": [
        {
          "output_type": "stream",
          "text": [
            "sum(old_subscribers<= 2000 ):  1413375\n",
            "sum(old_subscribers    )=  11715835\n",
            "Number of courses with old_subscribers<  20:  438\n",
            "Number of courses with old_subscribers<= 2000 ):  2561\n",
            "Number of courses                          : 3672\n"
          ],
          "name": "stdout"
        },
        {
          "output_type": "display_data",
          "data": {
            "image/png": "[encoded data removed]",
            "text/plain": [
              "<Figure size 432x288 with 1 Axes>"
            ]
          },
          "metadata": {
            "tags": [],
            "needs_background": "light"
          }
        }
      ]
    },
    {
      "cell_type": "markdown",
      "metadata": {
        "id": "CilQclsN7cva",
        "colab_type": "text"
      },
      "source": [
        "Let's plot the cumulative number of subscribers when we sort the data:"
      ]
    },
    {
      "cell_type": "code",
      "metadata": {
        "id": "Sl4Z2KmRuKja",
        "colab_type": "code",
        "colab": {
          "base_uri": "https://localhost:8080/",
          "height": 293
        },
        "outputId": "ca41a880-d48b-4ba5-e381-29c65e4fd794"
      },
      "source": [
        "Sorted_subsc = dfc.new_subscribers.sort_values()\n",
        "cum_subsc=np.cumsum(Sorted_subsc).reset_index(drop=True)\n",
        "plt.plot(cum_subsc)"
      ],
      "execution_count": 65,
      "outputs": [
        {
          "output_type": "execute_result",
          "data": {
            "text/plain": [
              "[<matplotlib.lines.Line2D at 0x7fc4fa5c80f0>]"
            ]
          },
          "metadata": {
            "tags": []
          },
          "execution_count": 65
        },
        {
          "output_type": "display_data",
          "data": {
            "image/png": "[encoded data removed]",
            "text/plain": [
              "<Figure size 432x288 with 1 Axes>"
            ]
          },
          "metadata": {
            "tags": [],
            "needs_background": "light"
          }
        }
      ]
    },
    {
      "cell_type": "code",
      "metadata": {
        "id": "4p1tn-qd5CGe",
        "colab_type": "code",
        "colab": {
          "base_uri": "https://localhost:8080/",
          "height": 293
        },
        "outputId": "7189b0c9-82cb-4d0d-8357-995a7fd2af2d"
      },
      "source": [
        "Sorted_subsc = df.old_subscribers.sort_values()\n",
        "cum_subsc=np.cumsum(Sorted_subsc).reset_index(drop=True)\n",
        "plt.plot(cum_subsc)"
      ],
      "execution_count": 72,
      "outputs": [
        {
          "output_type": "execute_result",
          "data": {
            "text/plain": [
              "[<matplotlib.lines.Line2D at 0x7fc4faa667f0>]"
            ]
          },
          "metadata": {
            "tags": []
          },
          "execution_count": 72
        },
        {
          "output_type": "display_data",
          "data": {
            "image/png": "[encoded data removed]",
            "text/plain": [
              "<Figure size 432x288 with 1 Axes>"
            ]
          },
          "metadata": {
            "tags": [],
            "needs_background": "light"
          }
        }
      ]
    },
    {
      "cell_type": "code",
      "metadata": {
        "id": "jJiM5Y1SuZXn",
        "colab_type": "code",
        "colab": {
          "base_uri": "https://localhost:8080/",
          "height": 674
        },
        "outputId": "2a211610-0290-4b6c-ecbb-325bfd2fe96f"
      },
      "source": [
        "dfc[dfc.old_subscribers>30000].count()"
      ],
      "execution_count": 73,
      "outputs": [
        {
          "output_type": "execute_result",
          "data": {
            "text/plain": [
              "course_id            48\n",
              "title                48\n",
              "url                  48\n",
              "is_paid              48\n",
              "old_price            48\n",
              "old_subscribers      48\n",
              "num_reviews          48\n",
              "num_lectures         48\n",
              "level                48\n",
              "duration             48\n",
              "old_pub_date         48\n",
              "subject              48\n",
              "status               48\n",
              "rating1              32\n",
              "rating2              32\n",
              "rating3              32\n",
              "rating4              32\n",
              "rating5              32\n",
              "rating_tot           32\n",
              "new_subscribers      48\n",
              "new_pub_date         48\n",
              "upd_month            32\n",
              "new_price            48\n",
              "curr_price           48\n",
              "discount             48\n",
              "timestamp            48\n",
              "old_revenue          48\n",
              "new_revenue          48\n",
              "hours_watched        48\n",
              "price_per_lecture    48\n",
              "new_perc_subs        48\n",
              "old_perc_subs        48\n",
              "cum_old_subsc        48\n",
              "cum_new_subsc        48\n",
              "new_cat              48\n",
              "old_cat              48\n",
              "dtype: int64"
            ]
          },
          "metadata": {
            "tags": []
          },
          "execution_count": 73
        }
      ]
    },
    {
      "cell_type": "markdown",
      "metadata": {
        "id": "joK7vZ1a7-6M",
        "colab_type": "text"
      },
      "source": [
        "We see that the lower 3000 courses (about 80% of the courses) have fewer than 25% of the total subscribers.  Most of the subscribers are enrolled in the top 20% of courses (in terms of popularity) - which should not be surprising.  What it does tell us is that we need to be careful in applying statistical tools like averages and medians which are meaningless in this type of data."
      ]
    },
    {
      "cell_type": "code",
      "metadata": {
        "id": "MouS5GO3mkKt",
        "colab_type": "code",
        "colab": {
          "base_uri": "https://localhost:8080/",
          "height": 436
        },
        "outputId": "44f1f770-0dd9-4c4e-a21b-d70a43260f55"
      },
      "source": [
        "piv = (df.pivot_table(index='subject', columns='old_subscribers',values='course_id', aggfunc = 'count')).T\n",
        "piv"
      ],
      "execution_count": 75,
      "outputs": [
        {
          "output_type": "execute_result",
          "data": {
            "text/html": [
              "<div>\n",
              "<style scoped>\n",
              "    .dataframe tbody tr th:only-of-type {\n",
              "        vertical-align: middle;\n",
              "    }\n",
              "\n",
              "    .dataframe tbody tr th {\n",
              "        vertical-align: top;\n",
              "    }\n",
              "\n",
              "    .dataframe thead th {\n",
              "        text-align: right;\n",
              "    }\n",
              "</style>\n",
              "<table border=\"1\" class=\"dataframe\">\n",
              "  <thead>\n",
              "    <tr style=\"text-align: right;\">\n",
              "      <th>subject</th>\n",
              "      <th>Business Finance</th>\n",
              "      <th>Graphic Design</th>\n",
              "      <th>Musical Instruments</th>\n",
              "      <th>Web Development</th>\n",
              "    </tr>\n",
              "    <tr>\n",
              "      <th>old_subscribers</th>\n",
              "      <th></th>\n",
              "      <th></th>\n",
              "      <th></th>\n",
              "      <th></th>\n",
              "    </tr>\n",
              "  </thead>\n",
              "  <tbody>\n",
              "    <tr>\n",
              "      <th>0</th>\n",
              "      <td>36.0</td>\n",
              "      <td>18.0</td>\n",
              "      <td>11.0</td>\n",
              "      <td>NaN</td>\n",
              "    </tr>\n",
              "    <tr>\n",
              "      <th>1</th>\n",
              "      <td>17.0</td>\n",
              "      <td>21.0</td>\n",
              "      <td>11.0</td>\n",
              "      <td>NaN</td>\n",
              "    </tr>\n",
              "    <tr>\n",
              "      <th>2</th>\n",
              "      <td>13.0</td>\n",
              "      <td>9.0</td>\n",
              "      <td>5.0</td>\n",
              "      <td>NaN</td>\n",
              "    </tr>\n",
              "    <tr>\n",
              "      <th>3</th>\n",
              "      <td>6.0</td>\n",
              "      <td>10.0</td>\n",
              "      <td>10.0</td>\n",
              "      <td>NaN</td>\n",
              "    </tr>\n",
              "    <tr>\n",
              "      <th>4</th>\n",
              "      <td>11.0</td>\n",
              "      <td>7.0</td>\n",
              "      <td>8.0</td>\n",
              "      <td>NaN</td>\n",
              "    </tr>\n",
              "    <tr>\n",
              "      <th>...</th>\n",
              "      <td>...</td>\n",
              "      <td>...</td>\n",
              "      <td>...</td>\n",
              "      <td>...</td>\n",
              "    </tr>\n",
              "    <tr>\n",
              "      <th>114512</th>\n",
              "      <td>NaN</td>\n",
              "      <td>NaN</td>\n",
              "      <td>NaN</td>\n",
              "      <td>1.0</td>\n",
              "    </tr>\n",
              "    <tr>\n",
              "      <th>120291</th>\n",
              "      <td>NaN</td>\n",
              "      <td>NaN</td>\n",
              "      <td>NaN</td>\n",
              "      <td>1.0</td>\n",
              "    </tr>\n",
              "    <tr>\n",
              "      <th>121584</th>\n",
              "      <td>NaN</td>\n",
              "      <td>NaN</td>\n",
              "      <td>NaN</td>\n",
              "      <td>1.0</td>\n",
              "    </tr>\n",
              "    <tr>\n",
              "      <th>161029</th>\n",
              "      <td>NaN</td>\n",
              "      <td>NaN</td>\n",
              "      <td>NaN</td>\n",
              "      <td>1.0</td>\n",
              "    </tr>\n",
              "    <tr>\n",
              "      <th>268923</th>\n",
              "      <td>NaN</td>\n",
              "      <td>NaN</td>\n",
              "      <td>NaN</td>\n",
              "      <td>1.0</td>\n",
              "    </tr>\n",
              "  </tbody>\n",
              "</table>\n",
              "<p>2197 rows × 4 columns</p>\n",
              "</div>"
            ],
            "text/plain": [
              "subject          Business Finance  ...  Web Development\n",
              "old_subscribers                    ...                 \n",
              "0                            36.0  ...              NaN\n",
              "1                            17.0  ...              NaN\n",
              "2                            13.0  ...              NaN\n",
              "3                             6.0  ...              NaN\n",
              "4                            11.0  ...              NaN\n",
              "...                           ...  ...              ...\n",
              "114512                        NaN  ...              1.0\n",
              "120291                        NaN  ...              1.0\n",
              "121584                        NaN  ...              1.0\n",
              "161029                        NaN  ...              1.0\n",
              "268923                        NaN  ...              1.0\n",
              "\n",
              "[2197 rows x 4 columns]"
            ]
          },
          "metadata": {
            "tags": []
          },
          "execution_count": 75
        }
      ]
    },
    {
      "cell_type": "code",
      "metadata": {
        "id": "z_CGrG78nj4h",
        "colab_type": "code",
        "colab": {
          "base_uri": "https://localhost:8080/",
          "height": 310
        },
        "outputId": "5009762e-bd1a-4e0d-f842-8c7d107e33f1"
      },
      "source": [
        "piv.plot(kind='bar',stacked=True)\n",
        "plt.show()"
      ],
      "execution_count": 76,
      "outputs": [
        {
          "output_type": "display_data",
          "data": {
            "image/png": "[encoded data removed]",
            "text/plain": [
              "<Figure size 432x288 with 1 Axes>"
            ]
          },
          "metadata": {
            "tags": [],
            "needs_background": "light"
          }
        }
      ]
    }
  ]
}